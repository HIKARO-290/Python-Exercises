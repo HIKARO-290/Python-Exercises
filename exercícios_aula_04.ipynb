{
  "nbformat": 4,
  "nbformat_minor": 0,
  "metadata": {
    "colab": {
      "name": "exercícios aula 04",
      "provenance": [],
      "collapsed_sections": [],
      "authorship_tag": "ABX9TyOA8HkMlBHKrQqNvmnl3ynk",
      "include_colab_link": true
    },
    "kernelspec": {
      "name": "python3",
      "display_name": "Python 3"
    },
    "language_info": {
      "name": "python"
    }
  },
  "cells": [
    {
      "cell_type": "markdown",
      "metadata": {
        "id": "view-in-github",
        "colab_type": "text"
      },
      "source": [
        "<a href=\"https://colab.research.google.com/github/HIKARO-290/Python-Exercises/blob/main/exerc%C3%ADcios_aula_04.ipynb\" target=\"_parent\"><img src=\"https://colab.research.google.com/assets/colab-badge.svg\" alt=\"Open In Colab\"/></a>"
      ]
    },
    {
      "cell_type": "markdown",
      "metadata": {
        "id": "PQYo_O3RGmTq"
      },
      "source": [
        "exercício 01\n"
      ]
    },
    {
      "cell_type": "code",
      "metadata": {
        "colab": {
          "base_uri": "https://localhost:8080/"
        },
        "id": "q6VWb5_7DRUE",
        "outputId": "c8559ee6-031a-43b8-f880-361daa6ed938"
      },
      "source": [
        "valor = int(input(\"digite um valor para ser verificado \\n\"))\n",
        "if valor%2 == 0 :\n",
        "  print(\"O valor é par\")\n",
        "else :\n",
        "  print(\"O valor é impar\")"
      ],
      "execution_count": 23,
      "outputs": [
        {
          "output_type": "stream",
          "text": [
            "digite um valor para ser verificado \n",
            "4\n",
            "O valor é par\n"
          ],
          "name": "stdout"
        }
      ]
    },
    {
      "cell_type": "code",
      "metadata": {
        "colab": {
          "base_uri": "https://localhost:8080/"
        },
        "id": "jCF1h0H1FHVq",
        "outputId": "aecc5040-71e2-4112-d969-c12d88e263f2"
      },
      "source": [
        "valor = int(input(\"digite um valor para ser verificado \\n\"))\n",
        "\n",
        "if valor!= 0:\n",
        "  if valor%2 == 0 :\n",
        "    print(\"O valor é par\")\n",
        "  else :\n",
        "    print(\"O valor é impar\")\n",
        "else:\n",
        "  print(\"O numero digitado não pode ser 0\")"
      ],
      "execution_count": 24,
      "outputs": [
        {
          "output_type": "stream",
          "text": [
            "digite um valor para ser verificado \n",
            "0\n",
            "O numero digitado não pode ser 0\n"
          ],
          "name": "stdout"
        }
      ]
    },
    {
      "cell_type": "markdown",
      "metadata": {
        "id": "GdwD2TTkGkDh"
      },
      "source": [
        "exercício 02\n"
      ]
    },
    {
      "cell_type": "code",
      "metadata": {
        "colab": {
          "base_uri": "https://localhost:8080/"
        },
        "id": "-0Q7F9apGH-n",
        "outputId": "ba3e8a5a-e42f-46d2-91b9-5e0a596b0968"
      },
      "source": [
        "valor = int(input(\"digite um valor para ser verificado \\n\"))\n",
        "\n",
        "if valor > 0 :\n",
        "  print(\"O valor é positivo\")\n",
        "else :\n",
        "  print(\"O valor é negativo\")"
      ],
      "execution_count": 26,
      "outputs": [
        {
          "output_type": "stream",
          "text": [
            "digite um valor para ser verificado \n",
            "6\n",
            "O valor é positivo\n"
          ],
          "name": "stdout"
        }
      ]
    },
    {
      "cell_type": "code",
      "metadata": {
        "colab": {
          "base_uri": "https://localhost:8080/"
        },
        "id": "sRKTqobJGXBV",
        "outputId": "f8ebbc2f-93ff-4f55-f97b-8686c47d140a"
      },
      "source": [
        "valor = int(input(\"digite um valor para ser verificado \\n\"))\n",
        "\n",
        "if valor!= 0:\n",
        "  if valor > 0 :\n",
        "    print(\"O valor é positivo\")\n",
        "  else :\n",
        "    print(\"O valor é negativo\")\n",
        "else:\n",
        "  print(\"O numero digitado não pode ser 0\")"
      ],
      "execution_count": 21,
      "outputs": [
        {
          "output_type": "stream",
          "text": [
            "digite um valor para ser verificado-5\n",
            "O valor é negativo\n"
          ],
          "name": "stdout"
        }
      ]
    }
  ]
}