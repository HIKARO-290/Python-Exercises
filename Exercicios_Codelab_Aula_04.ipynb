{
  "nbformat": 4,
  "nbformat_minor": 0,
  "metadata": {
    "colab": {
      "name": "Exercicios_Codelab_Aula_04.ipynb",
      "provenance": [],
      "collapsed_sections": [],
      "include_colab_link": true
    },
    "kernelspec": {
      "name": "python3",
      "display_name": "Python 3"
    },
    "language_info": {
      "name": "python"
    }
  },
  "cells": [
    {
      "cell_type": "markdown",
      "metadata": {
        "id": "view-in-github",
        "colab_type": "text"
      },
      "source": [
        "<a href=\"https://colab.research.google.com/github/HIKARO-290/Python-Exercises/blob/main/Exercicios_Codelab_Aula_04.ipynb\" target=\"_parent\"><img src=\"https://colab.research.google.com/assets/colab-badge.svg\" alt=\"Open In Colab\"/></a>"
      ]
    },
    {
      "cell_type": "markdown",
      "metadata": {
        "id": "SW-cnnj3AAlE"
      },
      "source": [
        "## Exercício 01\n",
        "\n",
        "Faça um programa que pergunte ao usuário um número e valide se o numero é par ou impar:\n",
        "\n",
        "* Crie uma variável para receber o valor, com conversão para int\n",
        "* Para um número ser par, a divisão dele por 2 tem que dar resto 0"
      ]
    },
    {
      "cell_type": "code",
      "metadata": {
        "id": "ZeuCDPZQFT9T"
      },
      "source": [
        "valor = int(input(\"digite um valor para ser verificado \\n\"))\n",
        "if valor%2 == 0 :\n",
        "  print(\"O valor é par\")\n",
        "else :\n",
        "  print(\"O valor é impar\")"
      ],
      "execution_count": null,
      "outputs": []
    },
    {
      "cell_type": "markdown",
      "metadata": {
        "id": "jXVUBuN3DcU-"
      },
      "source": [
        "## Exercício 02\n",
        "\n",
        "> Parte 1\n",
        "\n",
        "Faça um script que peça um valor e mostre na tela se o valor é positivo ou negativo.\n",
        "\n",
        "> Parte 2\n",
        "\n",
        "Agora implemente a funcionalidade de não aceitar o número 0, no input. (esse vai além do explicado até agora)"
      ]
    },
    {
      "cell_type": "markdown",
      "metadata": {
        "id": "d_pCTkw5jP3t"
      },
      "source": [
        "parte 01"
      ]
    },
    {
      "cell_type": "code",
      "metadata": {
        "id": "bsM4V6SeHwJr"
      },
      "source": [
        "valor = int(input(\"digite um valor para ser verificado \\n\"))\n",
        "\n",
        "if valor > 0 :\n",
        "  print(\"O valor é positivo\")\n",
        "else :\n",
        "  print(\"O valor é negativo\")"
      ],
      "execution_count": null,
      "outputs": []
    },
    {
      "cell_type": "markdown",
      "metadata": {
        "id": "L8icG3aPjOYD"
      },
      "source": [
        "parte 02"
      ]
    },
    {
      "cell_type": "code",
      "metadata": {
        "id": "fbbO1oIVjHnC"
      },
      "source": [
        "valor = int(input(\"digite um valor para ser verificado \\n\"))\n",
        "\n",
        "\n",
        "if valor == 0 :\n",
        "  print(\"O valor é neutro não é aceitavel\")\n",
        "elif valor >0 :\n",
        "  print(\"O valor é positivo e não é zero\")\n",
        "else:\n",
        "  print(\"O valor é negativo e não é zero\")\n",
        "  "
      ],
      "execution_count": null,
      "outputs": []
    },
    {
      "cell_type": "markdown",
      "metadata": {
        "id": "90mUizLXOKd3"
      },
      "source": [
        "## Exercício 03\n",
        "\n",
        "Faça um programa que peça dois números, imprima o maior deles ou imprima \"Numeros iguais\" se os números forem iguais."
      ]
    },
    {
      "cell_type": "code",
      "metadata": {
        "id": "7yXB2kfUVYuD"
      },
      "source": [
        "valor01 = int(input(\"digite um valor \\n\"))\n",
        "valor02 = int(input(\"digite um valor \\n\"))\n",
        "if valor01>valor02:\n",
        "  print(f\"\\n o maior valor é: {valor01}\")\n",
        "elif valor01==valor02:\n",
        "  print(\"\\n NUMEROS IGUAIS\")\n",
        "else:\n",
        "  print(f\"\\n O maior numero é: {valor02}\")"
      ],
      "execution_count": null,
      "outputs": []
    },
    {
      "cell_type": "markdown",
      "metadata": {
        "id": "9BATv7tsOWOI"
      },
      "source": [
        "## Exercício 04\n",
        "\n",
        "Crie um programa que verifique se uma letra digitada é \"F\" ou \"M\". Conforme a letra, escrever: F - Feminino, M - Masculino, caso escreva outra letra: Sexo Biológico Inválido."
      ]
    },
    {
      "cell_type": "code",
      "metadata": {
        "id": "pRm8kyI7Wnp4"
      },
      "source": [
        "sexobiologico = input(\"digite seu sexo biológico M para masculino F para feminino \\n\")\n",
        "\n",
        "if sexobiologico[0].strip() == \"m\" or sexobiologico[0].strip() ==\"M\":\n",
        "  print(\"masculino\")\n",
        "elif sexobiologico[0].strip() == \"f\" or sexobiologico[0].strip() ==\"F\":\n",
        "  print(\"feminino\")\n",
        "else:\n",
        "  print(\"sexo biologico invalido\")"
      ],
      "execution_count": null,
      "outputs": []
    },
    {
      "cell_type": "markdown",
      "metadata": {
        "id": "WX2j2ITtY3G5"
      },
      "source": [
        "### Exercício 05\n",
        "\n",
        "Crie um programa em Python que peça a nota do aluno, que deve ser um float entre 0.00 e 10.0\n",
        "\n",
        "* Se a nota for menor que 6.0, deve exibir a nota F.\n",
        "\n",
        "* Se a nota for de 6.0 até 7.0, deve exibir a nota D.\n",
        "\n",
        "* Se a nota for entre 7.0 e 8.0, deve exibir a nota C.\n",
        "\n",
        "* Se a nota for entre 8.0 e 9.0, deve exibir a nota B.\n",
        "\n",
        "* Por fim, se for entre 9.0 e 10.0, deve exibir um belo de um A."
      ]
    },
    {
      "cell_type": "code",
      "metadata": {
        "id": "4CjqLlFWY5Z-",
        "colab": {
          "base_uri": "https://localhost:8080/"
        },
        "outputId": "4bc0ef56-f3ac-45ea-ef6c-6f56c7f61569"
      },
      "source": [
        "nota = float(input(\"digite sua nota: \\n\"))\n",
        "if nota<6.0:\n",
        "  print(\"F\")\n",
        "elif 6.0<nota<7.0:\n",
        "  print(\"D\")\n",
        "elif 7.0<nota<8.0:\n",
        "  print(\"C\")\n",
        "elif 8.0<nota<9.0:\n",
        "  print(\"B\")\n",
        "elif 9.0<nota<10.0:\n",
        "  print(\"A\")\n",
        "else :\n",
        "  print(\"valor errado, sem classificação!\")"
      ],
      "execution_count": 7,
      "outputs": [
        {
          "output_type": "stream",
          "text": [
            "digite sua nota: \n",
            "11\n",
            "valor errado, sem classificação!\n"
          ],
          "name": "stdout"
        }
      ]
    },
    {
      "cell_type": "markdown",
      "metadata": {
        "id": "xep4W_T-s-Ra"
      },
      "source": [
        "# *Mini Projetos*"
      ]
    },
    {
      "cell_type": "markdown",
      "metadata": {
        "id": "4YbMlSEZG7UM"
      },
      "source": [
        "## **PROJETO 01**\n",
        "\n",
        "*   Escreva um programa que receba uma string digitada pelo usuário;\n",
        "*   Caso a string seja \"medieval\", exiba no console \"espada\";\n",
        "*   Caso contrário, se a string for \"futurista\", exiba no console \"sabre de luz\";\n",
        "*   Caso contrário, exiba no console \"Tente novamente\""
      ]
    },
    {
      "cell_type": "code",
      "metadata": {
        "id": "tn9QH5pVG8Rq",
        "colab": {
          "base_uri": "https://localhost:8080/"
        },
        "outputId": "a95755a5-51a5-44fd-bde2-172b9bc051d9"
      },
      "source": [
        "resposta = input(\"digite seu estilo de jogo \\n\")\n",
        "if resposta == \"medieval\" or resposta == \"Medieval\":\n",
        "  print(\"espada\")\n",
        "elif resposta == \"futurista\" or resposta == \"Futurista\":\n",
        "  print(\"sabre de luz\")\n",
        "else:\n",
        "  print(\"Tente novamente\")\n"
      ],
      "execution_count": 26,
      "outputs": [
        {
          "output_type": "stream",
          "text": [
            "digite seu estilo de jogo \n",
            "medieval\n",
            "espada\n"
          ],
          "name": "stdout"
        }
      ]
    },
    {
      "cell_type": "markdown",
      "metadata": {
        "id": "zUGk1OiNHDik"
      },
      "source": [
        "## **PROJETO 02**\n",
        "\n",
        "* Escreva um programa que receba um ataque de espada ou sabre digitada pelo usuário;\n",
        "\n",
        "* Caso o ataque seja \"espada\", exiba no console \"VOCÊ AINDA NÃO MATOU O CHEFÃO\";\n",
        "\n",
        "* Caso contrário, se o ataque for \"sabre\", exiba no console \"VOCÊ DERROTOU O CHEFÃO COM O SABRE DE LUZ\";\n",
        "\n",
        "* Caso contrário, exiba no console \"ATAQUE NOVAMENTE\""
      ]
    },
    {
      "cell_type": "code",
      "metadata": {
        "id": "eNZokIIOHHkp",
        "colab": {
          "base_uri": "https://localhost:8080/"
        },
        "outputId": "732c69cd-6960-41a1-98a0-3e266bb6a07f"
      },
      "source": [
        "resposta = input(\"digite se atacará usando espada ou sabre \\n\").strip()\n",
        "if resposta == \"espada\" or resposta ==\"Espada\":\n",
        "  print(\"VOCÊ AINDA NAO MATOU O CHEFÃO\")\n",
        "elif resposta == \"sabre\" or resposta ==\"Sabre\":\n",
        "  print(\"VOCÊ DERROTOU O CHEFÃO COM O SABRE DE LUZ\")\n",
        "else:\n",
        "  print(\"ATAQUE NOVAMENTE\")"
      ],
      "execution_count": 23,
      "outputs": [
        {
          "output_type": "stream",
          "text": [
            "digite se atacará usando espada ou sabre \n",
            "sabre\n",
            "VOCÊ DERROTOU O CHEFÃO COM O SABRE DE LUZ\n"
          ],
          "name": "stdout"
        }
      ]
    },
    {
      "cell_type": "markdown",
      "metadata": {
        "id": "NRhLAMa6ZfqU"
      },
      "source": [
        "## **DESAFIO 01**\n",
        "\n",
        "**Reajuste salarial**\n",
        "\n",
        "As empresas @.com resolveram dar um aumento de salário aos seus colaboradores e lhe contrataram para desenvolver o programa que calculará os reajustes.\n",
        "\n",
        "Faça um programa que recebe o salário de um colaborador e o reajuste segundo o seguinte critério, baseado no salário atual:\n",
        "* salários até R$ 280,00 (incluindo) : aumento de 20%\n",
        "\n",
        "* salários entre R\\$ 280,00 e R$ 700,00 : aumento de 15%\n",
        "\n",
        "* salários entre R\\$ 700,00 e R$ 1500,00 : aumento de 10%\n",
        "\n",
        "* salários de R$ 1500,00 em diante : aumento de 5% \n",
        "\n",
        "Após o aumento ser realizado, informe na tela:\n",
        "* o salário antes do reajuste;\n",
        "\n",
        "* o percentual de aumento aplicado;\n",
        "\n",
        "* o valor do aumento;\n",
        "\n",
        "* o novo salário, após o aumento.\""
      ]
    },
    {
      "cell_type": "code",
      "metadata": {
        "id": "VpC5oZINZXzt",
        "colab": {
          "base_uri": "https://localhost:8080/"
        },
        "outputId": "e9f088fc-dc37-489b-c83d-78553940a56d"
      },
      "source": [
        "salario = float(input(\"digite seu salário \\n\"))\n",
        "if salario <= 280.00 :\n",
        "  salario = (salario*0.2)+salario\n",
        "  print(f\"O salario com o aumento será de: R$ {salario:.2f}\")\n",
        "elif 280.00<salario<700.00 :\n",
        "  salario = (salario*0.15)+salario\n",
        "  print(f\"O salario com o aumento será de: R$ {salario:.2f}\")\n",
        "elif 700.00<=salario<1500.00 :\n",
        "  salario = (salario*0.1)+salario\n",
        "  print(f\"O salario com o aumento será de: R$ {salario:.2f}\")\n",
        "else:\n",
        "  salario = (salario*0.05)+salario\n",
        "  print(f\"O salario com o aumento será de: R$ {salario:.2f}\")"
      ],
      "execution_count": 9,
      "outputs": [
        {
          "output_type": "stream",
          "text": [
            "digite seu salário500\n",
            "O salario com o aumento será de: R$ 575.00\n"
          ],
          "name": "stdout"
        }
      ]
    },
    {
      "cell_type": "markdown",
      "metadata": {
        "id": "HvThpbU4aBGy"
      },
      "source": [
        "## **DESAFIO 02**\n",
        "\n",
        "**Jogo da adivinhação**\n",
        "\n",
        "Escreva um programa que faça o computador “pensar” em um número inteiro entre 0 e 10 e peça para o usuário tentar descobrir qual foi o número escolhido pelo computador. O programa deverá escrever na tela se o usuário venceu ou perdeu."
      ]
    },
    {
      "cell_type": "code",
      "metadata": {
        "id": "TVeHZbyQZIzO",
        "colab": {
          "base_uri": "https://localhost:8080/"
        },
        "outputId": "edca6388-e8e2-4aed-8121-02358a78d9ea"
      },
      "source": [
        "import random\n",
        "\n",
        "numerosorteado = random.randint(0,10)\n",
        "tentativa = input(\"digite um numero e tentando adivinhar que numero o computador sorteou \\n\")\n",
        "if tentativa == numerosorteado:\n",
        "  print(\"venceu\")\n",
        "else:\n",
        "  print(f\"errou, o numero foi: {numerosorteado}\")"
      ],
      "execution_count": 16,
      "outputs": [
        {
          "output_type": "stream",
          "text": [
            "digite um numero e tentando adivinhar que numero o computador sorteou5\n",
            "errou, o numero foi: 3\n"
          ],
          "name": "stdout"
        }
      ]
    },
    {
      "cell_type": "markdown",
      "metadata": {
        "id": "mjLFAUooaOH1"
      },
      "source": [
        "## **Desafio 03**\n",
        "\n",
        "**Caixa eletrônico**\n",
        "\n",
        "Faça um Programa para um caixa eletrônico. O programa deverá perguntar ao usuário a valor do saque e depois informar quantas notas de cada valor serão fornecidas. As notas disponíveis serão as de 1, 5, 10, 50 e 100 reais. O valor mínimo é de 10 reais e o máximo de 600 reais. O programa não deve se preocupar com a quantidade de notas existentes na máquina.\n",
        "\n",
        "* Exemplo 1: Para sacar a quantia de 256 reais, o programa fornece duas notas de 100, uma nota de 50, uma nota de 5 e uma nota de 1;\n",
        "\n",
        "* Exemplo 2: Para sacar a quantia de 399 reais, o programa fornece três notas de 100, uma nota de 50, quatro notas de 10, uma nota de 5 e quatro notas de 1.\n",
        "\n"
      ]
    },
    {
      "cell_type": "code",
      "metadata": {
        "id": "sH65bTx-ZMLh",
        "colab": {
          "base_uri": "https://localhost:8080/"
        },
        "outputId": "6440eb8d-e44c-418a-efad-0ea1321f0523"
      },
      "source": [
        "saque = float(input(\"digite o valor de seu saque: \"))\n",
        "nota1 = 0\n",
        "nota5 = 0\n",
        "nota10 = 0\n",
        "nota50 = 0\n",
        "nota100 = 0\n",
        "if saque < 10.00:\n",
        "  print(\"valor baixo.Tente novamente com outro valor!\")\n",
        "elif saque > 100.00:\n",
        "  nota100 = int(saque/100)\n",
        "  nota50 = int((saque%100)/50)\n",
        "  nota10 = int(((saque%100)%50)/10)\n",
        "  nota5 = int((((saque%100)%50)%10)/5)\n",
        "  nota1 = int(((((saque%100)%50)%10)%5)/1)\n",
        "print(f'''\n",
        "  Você receberá notas de 100: {nota100}\n",
        "  Você receberá notas de 50:  {nota50}\n",
        "  Você receberá notas de 10:  {nota10}\n",
        "  Você receberá notas de 5: {nota5}\n",
        "  Você receberá notas de 1: {nota1}\n",
        "  ''')"
      ],
      "execution_count": 18,
      "outputs": [
        {
          "output_type": "stream",
          "text": [
            "digite o valor de seu saque: 5520\n",
            "\n",
            "  Você receberá notas de 100: 55\n",
            "  Você receberá notas de 50:  0\n",
            "  Você receberá notas de 10:  2\n",
            "  Você receberá notas de 5: 0\n",
            "  Você receberá notas de 1: 0\n",
            "  \n"
          ],
          "name": "stdout"
        }
      ]
    }
  ]
}