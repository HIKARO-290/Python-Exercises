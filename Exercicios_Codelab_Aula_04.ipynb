{
  "nbformat": 4,
  "nbformat_minor": 0,
  "metadata": {
    "colab": {
      "name": "Exercicios_Codelab_Aula_04.ipynb",
      "provenance": [],
      "collapsed_sections": [],
      "include_colab_link": true
    },
    "kernelspec": {
      "name": "python3",
      "display_name": "Python 3"
    },
    "language_info": {
      "name": "python"
    }
  },
  "cells": [
    {
      "cell_type": "markdown",
      "metadata": {
        "id": "view-in-github",
        "colab_type": "text"
      },
      "source": [
        "<a href=\"https://colab.research.google.com/github/HIKARO-290/Python-Exercises/blob/main/Exercicios_Codelab_Aula_04.ipynb\" target=\"_parent\"><img src=\"https://colab.research.google.com/assets/colab-badge.svg\" alt=\"Open In Colab\"/></a>"
      ]
    },
    {
      "cell_type": "markdown",
      "metadata": {
        "id": "SW-cnnj3AAlE"
      },
      "source": [
        "## Exercício 01\n",
        "\n",
        "Faça um programa que pergunte ao usuário um número e valide se o numero é par ou impar:\n",
        "\n",
        "* Crie uma variável para receber o valor, com conversão para int\n",
        "* Para um número ser par, a divisão dele por 2 tem que dar resto 0"
      ]
    },
    {
      "cell_type": "code",
      "metadata": {
        "id": "ZeuCDPZQFT9T"
      },
      "source": [
        "# recebendo o valor pelo usuário\n",
        "# geting the value by user\n",
        "valor = int(input(\"digite um valor para ser verificado \\n\")\n",
        "# -----------------------------------------------------------#\n",
        "# verificando a condição\n",
        "# verifying the condition\n",
        "if valor%2 == 0 :\n",
        "  # -----------------------------------------------------------#\n",
        "  # imprimindo o resultado quando o valor for par\n",
        "  # printing the result when the value is even\n",
        "  print(\"O valor é par\")\n",
        "else :\n",
        "  # -----------------------------------------------------------#\n",
        "  # imprimindo o resultado quando o valor for impar\n",
        "  # printing the result when the value is odd\n",
        "  print(\"O valor é impar\")"
      ],
      "execution_count": null,
      "outputs": []
    },
    {
      "cell_type": "markdown",
      "metadata": {
        "id": "jXVUBuN3DcU-"
      },
      "source": [
        "## Exercício 02\n",
        "\n",
        "> Parte 1\n",
        "\n",
        "Faça um script que peça um valor e mostre na tela se o valor é positivo ou negativo.\n",
        "\n",
        "> Parte 2\n",
        "\n",
        "Agora implemente a funcionalidade de não aceitar o número 0, no input. (esse vai além do explicado até agora)"
      ]
    },
    {
      "cell_type": "markdown",
      "metadata": {
        "id": "d_pCTkw5jP3t"
      },
      "source": [
        "parte 01"
      ]
    },
    {
      "cell_type": "code",
      "metadata": {
        "id": "bsM4V6SeHwJr"
      },
      "source": [
        "# recebendo o valor pelo usuário\n",
        "# geting the value by user\n",
        "valor = int(input(\"digite um valor para ser verificado \\n\"))\n",
        "# -----------------------------------------------------------#\n",
        "# verificando a condição\n",
        "# verifying the condition\n",
        "if valor > 0 :\n",
        "  # -----------------------------------------------------------#\n",
        "  # imprimindo o resultado quando o valor for positivo\n",
        "  # printing the result when the value is positive\n",
        "  print(\"O valor é positivo\")\n",
        "else :\n",
        "  # -----------------------------------------------------------#\n",
        "  # imprimindo o resultado quando o valor for negativo\n",
        "  # printing the result when the value is negative\n",
        "  print(\"O valor é negativo\")"
      ],
      "execution_count": null,
      "outputs": []
    },
    {
      "cell_type": "markdown",
      "metadata": {
        "id": "L8icG3aPjOYD"
      },
      "source": [
        "parte 02"
      ]
    },
    {
      "cell_type": "code",
      "metadata": {
        "id": "fbbO1oIVjHnC"
      },
      "source": [
        "# recebendo o valor pelo usuário\n",
        "# geting the value by user\n",
        "valor = int(input(\"digite um valor para ser verificado \\n\"))\n",
        "# -----------------------------------------------------------#\n",
        "# verificando a condição\n",
        "# verifying the condition\n",
        "if valor == 0 :\n",
        "  # -----------------------------------------------------------#\n",
        "  # imprimindo o resultado quando o valor for neutro\n",
        "  # printing the result when the value is neutral\n",
        "  print(\"O valor é neutro não é aceitavel\")\n",
        "# -----------------------------------------------------------#\n",
        "# verificando a segunda condição\n",
        "# verifying the second condition\n",
        "elif valor >0 :\n",
        "  # -----------------------------------------------------------#\n",
        "  # imprimindo o resultado quando o valor for positivo e não neutro\n",
        "  # printing the result when the value is positive and don't is a neutral\n",
        "  print(\"O valor é positivo e não é zero\")\n",
        "else:\n",
        "  # -----------------------------------------------------------#\n",
        "  # imprimindo o resultado quando o valor for negativo e não neutro\n",
        "  # printing the result when the value is negative and don't is a neutral\n",
        "  print(\"O valor é negativo e não é zero\")\n",
        "  "
      ],
      "execution_count": null,
      "outputs": []
    },
    {
      "cell_type": "markdown",
      "metadata": {
        "id": "90mUizLXOKd3"
      },
      "source": [
        "## Exercício 03\n",
        "\n",
        "Faça um programa que peça dois números, imprima o maior deles ou imprima \"Numeros iguais\" se os números forem iguais."
      ]
    },
    {
      "cell_type": "code",
      "metadata": {
        "id": "7yXB2kfUVYuD"
      },
      "source": [
        "# recebendo os valores pelo usuário\n",
        "# geting the values by user\n",
        "valor01 = int(input(\"digite um valor \\n\"))\n",
        "valor02 = int(input(\"digite um valor \\n\"))\n",
        "# -----------------------------------------------------------#\n",
        "# verificando a condição\n",
        "# verifying the condition\n",
        "if valor01>valor02:\n",
        "  # -----------------------------------------------------------#\n",
        "  # imprimindo os valores quando o primeiro valor for o mais alto\n",
        "  # printing the result when the first value is the most high\n",
        "  print(f\"\\n o maior valor é: {valor01}\")\n",
        "# -----------------------------------------------------------#\n",
        "# verificando a segunda condição\n",
        "# verifying the second condition\n",
        "elif valor01==valor02:\n",
        "  # -----------------------------------------------------------#\n",
        "  # imprimindo os valores quando eles forem iguais\n",
        "  # printing the result when the values are equal\n",
        "  print(\"\\n NUMEROS IGUAIS\")\n",
        "else:\n",
        "  # -----------------------------------------------------------#\n",
        "  # imprimindo os valores quando o segundo valor for o mais alto\n",
        "  # printing the result when the seccond value is the most high\n",
        "  print(f\"\\n O maior numero é: {valor02}\")"
      ],
      "execution_count": null,
      "outputs": []
    },
    {
      "cell_type": "markdown",
      "metadata": {
        "id": "9BATv7tsOWOI"
      },
      "source": [
        "## Exercício 04\n",
        "\n",
        "Crie um programa que verifique se uma letra digitada é \"F\" ou \"M\". Conforme a letra, escrever: F - Feminino, M - Masculino, caso escreva outra letra: Sexo Biológico Inválido."
      ]
    },
    {
      "cell_type": "code",
      "metadata": {
        "id": "pRm8kyI7Wnp4",
        "colab": {
          "base_uri": "https://localhost:8080/"
        },
        "outputId": "2f43c42e-9934-457c-fda6-65fd2adcefb8"
      },
      "source": [
        "# recebendo os valores pelo usuário\n",
        "# geting the values by user\n",
        "sexobiologico = input(\"digite seu sexo biológico M para masculino F para feminino \\n\")\n",
        "# -----------------------------------------------------------#\n",
        "# verificando a condição\n",
        "# verifying the condition\n",
        "if sexobiologico[0].strip().lower() == \"m\":\n",
        "  # -----------------------------------------------------------#\n",
        "  # imprimindo o valor quando o valor for \"m\"\n",
        "  # printing the result when the value is \"m\"\n",
        "  print(\"masculino\")\n",
        "# -----------------------------------------------------------#\n",
        "# verificando a segunda condição\n",
        "# verifying the second condition\n",
        "elif sexobiologico[0].strip().lower() == \"f\":\n",
        "  # -----------------------------------------------------------#\n",
        "  # imprimindo o valor quando o valor for \"f\"\n",
        "  # printing the result when the value is \"f\"\n",
        "  print(\"feminino\")\n",
        "else:\n",
        "  # -----------------------------------------------------------#\n",
        "  # imprimindo o valor quando o valor for invalido\n",
        "  # printing the result when the value is invalid\n",
        "  print(\"sexo biologico invalido\")"
      ],
      "execution_count": 3,
      "outputs": [
        {
          "output_type": "stream",
          "text": [
            "digite seu sexo biológico M para masculino F para feminino \n",
            "M\n",
            "masculino\n"
          ],
          "name": "stdout"
        }
      ]
    },
    {
      "cell_type": "markdown",
      "metadata": {
        "id": "WX2j2ITtY3G5"
      },
      "source": [
        "### Exercício 05\n",
        "\n",
        "Crie um programa em Python que peça a nota do aluno, que deve ser um float entre 0.00 e 10.0\n",
        "\n",
        "* Se a nota for menor que 6.0, deve exibir a nota F.\n",
        "\n",
        "* Se a nota for de 6.0 até 7.0, deve exibir a nota D.\n",
        "\n",
        "* Se a nota for entre 7.0 e 8.0, deve exibir a nota C.\n",
        "\n",
        "* Se a nota for entre 8.0 e 9.0, deve exibir a nota B.\n",
        "\n",
        "* Por fim, se for entre 9.0 e 10.0, deve exibir um belo de um A."
      ]
    },
    {
      "cell_type": "code",
      "metadata": {
        "id": "4CjqLlFWY5Z-",
        "colab": {
          "base_uri": "https://localhost:8080/"
        },
        "outputId": "4bc0ef56-f3ac-45ea-ef6c-6f56c7f61569"
      },
      "source": [
        "# recebendo os valores pelo usuário\n",
        "# geting the values by user\n",
        "nota = float(input(\"digite sua nota: \\n\"))\n",
        "# -----------------------------------------------------------#\n",
        "# verificando a condição\n",
        "# verifying the condition\n",
        "if nota<6.0:\n",
        "  # -----------------------------------------------------------#\n",
        "  # imprimindo o resultado quando a nota for menor que 6\n",
        "  # printing the result when the note value is less than 6\n",
        "  print(\"F\")\n",
        "# -----------------------------------------------------------#\n",
        "# verificando a segunda condição\n",
        "# verifying the second condition\n",
        "elif 6.0<=nota<7.0:\n",
        "  # -----------------------------------------------------------#\n",
        "  # imprimindo o resultado quando a nota for menor que 7 e maior que 6\n",
        "  # printing the result when the note value is less than 7 and bigger then 6\n",
        "  print(\"D\")\n",
        "# -----------------------------------------------------------#\n",
        "# verificando a terceira condição\n",
        "# verifying the third condition\n",
        "elif 7.0<=nota<8.0:\n",
        "  # -----------------------------------------------------------#\n",
        "  # imprimindo o resultado quando a nota for menor que 8 e maior que 7\n",
        "  # printing the result when the note value is less than 8 and bigger then 7\n",
        "  print(\"C\")\n",
        "# -----------------------------------------------------------#\n",
        "# verificando a quarta condição\n",
        "# verifying the fourth condition\n",
        "elif 8.0<=nota<9.0:\n",
        "  # -----------------------------------------------------------#\n",
        "  # imprimindo o resultado quando a nota for menor que 9 e maior que 8\n",
        "  # printing the result when the note value is less than 9 and bigger then 8\n",
        "  print(\"B\")\n",
        "# -----------------------------------------------------------#\n",
        "# verificando a quinta condição\n",
        "# verifying the fifth condition\n",
        "elif 9.0<=nota<10.0:\n",
        "  # -----------------------------------------------------------#\n",
        "  # imprimindo o resultado quando a nota for menor que 10 e maior que 9\n",
        "  # printing the result when the note value is less than 10 and bigger then 9\n",
        "  print(\"A\")\n",
        "else :\n",
        "  # -----------------------------------------------------------#\n",
        "  # imprimindo o resultado quando for digitado um valor errado\n",
        "  # printing de result when the value is wrong\n",
        "  print(\"valor errado, sem classificação!\")"
      ],
      "execution_count": null,
      "outputs": [
        {
          "output_type": "stream",
          "text": [
            "digite sua nota: \n",
            "11\n",
            "valor errado, sem classificação!\n"
          ],
          "name": "stdout"
        }
      ]
    },
    {
      "cell_type": "markdown",
      "metadata": {
        "id": "xep4W_T-s-Ra"
      },
      "source": [
        "# *Mini Projetos*"
      ]
    },
    {
      "cell_type": "markdown",
      "metadata": {
        "id": "4YbMlSEZG7UM"
      },
      "source": [
        "## **PROJETO 01**\n",
        "\n",
        "*   Escreva um programa que receba uma string digitada pelo usuário;\n",
        "*   Caso a string seja \"medieval\", exiba no console \"espada\";\n",
        "*   Caso contrário, se a string for \"futurista\", exiba no console \"sabre de luz\";\n",
        "*   Caso contrário, exiba no console \"Tente novamente\""
      ]
    },
    {
      "cell_type": "code",
      "metadata": {
        "id": "tn9QH5pVG8Rq",
        "colab": {
          "base_uri": "https://localhost:8080/"
        },
        "outputId": "e9644d44-144f-403f-a795-cb0b6dc7d1fd"
      },
      "source": [
        "# recebendo os valores pelo usuário\n",
        "# geting the values by user\n",
        "resposta = input(\"digite seu estilo de jogo \\n\").lower()\n",
        "# -----------------------------------------------------------#\n",
        "# verificando a condição\n",
        "# verifying the condition\n",
        "if resposta == \"medieval\":\n",
        "  # -----------------------------------------------------------#\n",
        "  # imprimindo o resultado quando a resposta for \"medieval\"\n",
        "  # printing the result when the answer is \"medieval\"\n",
        "  print(\"espada\")\n",
        "# -----------------------------------------------------------#\n",
        "# verificando a segunda condição\n",
        "# verifying the second condition\n",
        "elif resposta == \"futurista\":\n",
        "  # -----------------------------------------------------------#\n",
        "  # imprimindo o resultado quando a resposta for \"futurista\"\n",
        "  # printing the result when the answer is \"futurista\"\n",
        "  print(\"sabre de luz\")\n",
        "else:\n",
        "  # -----------------------------------------------------------#\n",
        "  # imprimindo o resultado quando a resposta for outra\n",
        "  # printing the result when the answer is other\n",
        "  print(\"Tente novamente\")\n"
      ],
      "execution_count": 6,
      "outputs": [
        {
          "output_type": "stream",
          "text": [
            "digite seu estilo de jogo \n",
            "futurista\n",
            "sabre de luz\n"
          ],
          "name": "stdout"
        }
      ]
    },
    {
      "cell_type": "markdown",
      "metadata": {
        "id": "zUGk1OiNHDik"
      },
      "source": [
        "## **PROJETO 02**\n",
        "\n",
        "* Escreva um programa que receba um ataque de espada ou sabre digitada pelo usuário;\n",
        "\n",
        "* Caso o ataque seja \"espada\", exiba no console \"VOCÊ AINDA NÃO MATOU O CHEFÃO\";\n",
        "\n",
        "* Caso contrário, se o ataque for \"sabre\", exiba no console \"VOCÊ DERROTOU O CHEFÃO COM O SABRE DE LUZ\";\n",
        "\n",
        "* Caso contrário, exiba no console \"ATAQUE NOVAMENTE\""
      ]
    },
    {
      "cell_type": "code",
      "metadata": {
        "id": "eNZokIIOHHkp",
        "colab": {
          "base_uri": "https://localhost:8080/"
        },
        "outputId": "52ce6f34-156b-4fc0-8fe0-e68ea9d86adc"
      },
      "source": [
        "# recebendo os valores pelo usuário\n",
        "# geting the values by user\n",
        "resposta = input(\"digite se atacará usando espada ou sabre \\n\").strip().lower()\n",
        "# -----------------------------------------------------------#\n",
        "# verificando a condição\n",
        "# verifying the condition\n",
        "if resposta == \"espada\":\n",
        "  # -----------------------------------------------------------#\n",
        "  # imprimindo o resultado quando resposta for \"espada\"\n",
        "  # printing the result when the answer is \"espada\" \n",
        "  print(\"VOCÊ AINDA NAO MATOU O CHEFÃO\")\n",
        "# -----------------------------------------------------------#\n",
        "# verificando a segunda condição\n",
        "# verifying the second condition\n",
        "elif resposta == \"sabre\":\n",
        "  # -----------------------------------------------------------#\n",
        "  # imprimindo o resultado quando resposta for \"sabre\"\n",
        "  # printing the result when the answer is \"sabre\" \n",
        "  print(\"VOCÊ DERROTOU O CHEFÃO COM O SABRE DE LUZ\")\n",
        "else:\n",
        "  # -----------------------------------------------------------#\n",
        "  # imprimindo o resultado quando a resposta for outra\n",
        "  # printing the result when the answer is other\n",
        "  print(\"ATAQUE NOVAMENTE\")"
      ],
      "execution_count": 7,
      "outputs": [
        {
          "output_type": "stream",
          "text": [
            "digite se atacará usando espada ou sabre \n",
            "espada\n",
            "VOCÊ AINDA NAO MATOU O CHEFÃO\n"
          ],
          "name": "stdout"
        }
      ]
    },
    {
      "cell_type": "markdown",
      "metadata": {
        "id": "NRhLAMa6ZfqU"
      },
      "source": [
        "## **DESAFIO 01**\n",
        "\n",
        "**Reajuste salarial**\n",
        "\n",
        "As empresas @.com resolveram dar um aumento de salário aos seus colaboradores e lhe contrataram para desenvolver o programa que calculará os reajustes.\n",
        "\n",
        "Faça um programa que recebe o salário de um colaborador e o reajuste segundo o seguinte critério, baseado no salário atual:\n",
        "* salários até R$ 280,00 (incluindo) : aumento de 20%\n",
        "\n",
        "* salários entre R\\$ 280,00 e R$ 700,00 : aumento de 15%\n",
        "\n",
        "* salários entre R\\$ 700,00 e R$ 1500,00 : aumento de 10%\n",
        "\n",
        "* salários de R$ 1500,00 em diante : aumento de 5% \n",
        "\n",
        "Após o aumento ser realizado, informe na tela:\n",
        "* o salário antes do reajuste;\n",
        "\n",
        "* o percentual de aumento aplicado;\n",
        "\n",
        "* o valor do aumento;\n",
        "\n",
        "* o novo salário, após o aumento.\""
      ]
    },
    {
      "cell_type": "code",
      "metadata": {
        "id": "VpC5oZINZXzt",
        "colab": {
          "base_uri": "https://localhost:8080/"
        },
        "outputId": "e9f088fc-dc37-489b-c83d-78553940a56d"
      },
      "source": [
        "# recebendo os valores pelo usuário\n",
        "# geting the values by user\n",
        "salario = float(input(\"digite seu salário \\n\"))\n",
        "# -----------------------------------------------------------#\n",
        "# verificando a condição\n",
        "# verifying the condition\n",
        "if salario <= 280.00 :\n",
        "  # -----------------------------------------------------------#\n",
        "  # calculando a quantidade de notas e imprimindo o resultado\n",
        "  # Calculating the quantity and printing the result\n",
        "  salario = (salario*0.2)+salario\n",
        "  print(f\"O salario terá o aumento de 20% no valor de {(salario*0.2):.2f} com o aumento será de: R$ {salario:.2f}\")\n",
        "# -----------------------------------------------------------#\n",
        "# verificando a segunda condição\n",
        "# verifying the second condition\n",
        "elif 280.00<salario<700.00 :\n",
        "  # -----------------------------------------------------------#\n",
        "  # calculando a quantidade de notas e imprimindo o resultado\n",
        "  # Calculating the quantity and printing the result\n",
        "  salario = (salario*0.15)+salario\n",
        "  print(f\"O salario terá o aumento de 15% no valor de {(salario*0.15):.2f} com o aumento será de: R$ {salario:.2f}\")\n",
        "# -----------------------------------------------------------#\n",
        "# verificando a third condição\n",
        "# verifying the condition\n",
        "elif 700.00<=salario<1500.00 :\n",
        "  # -----------------------------------------------------------#\n",
        "  # calculando a quantidade de notas e imprimindo o resultado\n",
        "  # Calculating the quantity and printing the result\n",
        "  salario = (salario*0.1)+salario\n",
        "  print(f\"O salario terá o aumento de 10% no valor de {(salario*0.1):.2f} com o aumento será de: R$ {salario:.2f}\")\n",
        "else:\n",
        "  # -----------------------------------------------------------#\n",
        "  # calculando a quantidade de notas e imprimindo o resultado\n",
        "  # Calculating the quantity and printing the result\n",
        "  salario = (salario*0.05)+salario\n",
        "  print(f\"O salario terá o aumento de 5% no valor de {(salario*0.05):.2f} com o aumento será de: R$ {salario:.2f}\")"
      ],
      "execution_count": null,
      "outputs": [
        {
          "output_type": "stream",
          "text": [
            "digite seu salário500\n",
            "O salario com o aumento será de: R$ 575.00\n"
          ],
          "name": "stdout"
        }
      ]
    },
    {
      "cell_type": "markdown",
      "metadata": {
        "id": "HvThpbU4aBGy"
      },
      "source": [
        "## **DESAFIO 02**\n",
        "\n",
        "**Jogo da adivinhação**\n",
        "\n",
        "Escreva um programa que faça o computador “pensar” em um número inteiro entre 0 e 10 e peça para o usuário tentar descobrir qual foi o número escolhido pelo computador. O programa deverá escrever na tela se o usuário venceu ou perdeu."
      ]
    },
    {
      "cell_type": "code",
      "metadata": {
        "id": "TVeHZbyQZIzO",
        "colab": {
          "base_uri": "https://localhost:8080/"
        },
        "outputId": "edca6388-e8e2-4aed-8121-02358a78d9ea"
      },
      "source": [
        "# -----------------------------------------------------------#\n",
        "# importando a biblioteca\n",
        "# importing the library\n",
        "import random\n",
        "# -----------------------------------------------------------#\n",
        "# gerando o numero aleatório\n",
        "# generating the random number\n",
        "numerosorteado = random.randint(0,10)\n",
        "# recebendo os valores pelo usuário\n",
        "# geting the values by user\n",
        "tentativa = input(\"digite um numero e tentando adivinhar que numero o computador sorteou \\n\")\n",
        "# -----------------------------------------------------------#\n",
        "# verificando a condição\n",
        "# verifying the condition\n",
        "if tentativa == numerosorteado:\n",
        "  # -----------------------------------------------------------#\n",
        "  # imprimindo o resultado de vencedor quando os numeros forem iguais\n",
        "  # printing the winner result when the numbers are equal\n",
        "  print(\"venceu\")\n",
        "else:\n",
        "  # -----------------------------------------------------------#\n",
        "  # imprimindo o resultado de erro quando os numeros forem diferentes\n",
        "  # printing the error result when the numbers are different\n",
        "  print(f\"errou, o numero foi: {numerosorteado}\")"
      ],
      "execution_count": null,
      "outputs": [
        {
          "output_type": "stream",
          "text": [
            "digite um numero e tentando adivinhar que numero o computador sorteou5\n",
            "errou, o numero foi: 3\n"
          ],
          "name": "stdout"
        }
      ]
    },
    {
      "cell_type": "markdown",
      "metadata": {
        "id": "mjLFAUooaOH1"
      },
      "source": [
        "## **Desafio 03**\n",
        "\n",
        "**Caixa eletrônico**\n",
        "\n",
        "Faça um Programa para um caixa eletrônico. O programa deverá perguntar ao usuário a valor do saque e depois informar quantas notas de cada valor serão fornecidas. As notas disponíveis serão as de 1, 5, 10, 50 e 100 reais. O valor mínimo é de 10 reais e o máximo de 600 reais. O programa não deve se preocupar com a quantidade de notas existentes na máquina.\n",
        "\n",
        "* Exemplo 1: Para sacar a quantia de 256 reais, o programa fornece duas notas de 100, uma nota de 50, uma nota de 5 e uma nota de 1;\n",
        "\n",
        "* Exemplo 2: Para sacar a quantia de 399 reais, o programa fornece três notas de 100, uma nota de 50, quatro notas de 10, uma nota de 5 e quatro notas de 1.\n",
        "\n"
      ]
    },
    {
      "cell_type": "code",
      "metadata": {
        "id": "sH65bTx-ZMLh",
        "colab": {
          "base_uri": "https://localhost:8080/"
        },
        "outputId": "280615d0-e28d-4836-bb43-ea6294cb734e"
      },
      "source": [
        "# recebendo os valores pelo usuário\n",
        "# geting the values by user\n",
        "saque = float(input(\"digite o valor de seu saque: \"))\n",
        "# -----------------------------------------------------------#\n",
        "# criando variaveis para quantidades\n",
        "# creating the variables to quantities\n",
        "nota1 = 0\n",
        "nota5 = 0\n",
        "nota10 = 0\n",
        "nota50 = 0\n",
        "nota100 = 0\n",
        "# -----------------------------------------------------------#\n",
        "# verificando a condição\n",
        "# verifying the condition\n",
        "if saque < 10.00:\n",
        "  # -----------------------------------------------------------#\n",
        "  # imprimindo o erro quando o valor for abaixo de 10\n",
        "  # printing the error when the value is lower than 10\n",
        "  print(\"valor baixo.Tente novamente com outro valor!\")\n",
        "# -----------------------------------------------------------#\n",
        "# verificando a segunda condição\n",
        "# verifying the second condition\n",
        "elif saque > 100.00:\n",
        "  # -----------------------------------------------------------#\n",
        "  # calculando as quantidades\n",
        "  # calculating the quantities\n",
        "  nota100 = int(saque/100)\n",
        "  nota50 = int((saque%100)/50)\n",
        "  nota10 = int(((saque%100)%50)/10)\n",
        "  nota5 = int((((saque%100)%50)%10)/5)\n",
        "  nota1 = int(((((saque%100)%50)%10)%5)/1)\n",
        "  # -----------------------------------------------------------#\n",
        "  # imprimindo as quantidades por nota\n",
        "  # printing the quantities per note\n",
        "print(f'''\n",
        "  Você receberá notas de 100: {nota100}\n",
        "  Você receberá notas de 50:  {nota50}\n",
        "  Você receberá notas de 10:  {nota10}\n",
        "  Você receberá notas de 5: {nota5}\n",
        "  Você receberá notas de 1: {nota1}\n",
        "  ''')"
      ],
      "execution_count": 8,
      "outputs": [
        {
          "output_type": "stream",
          "text": [
            "digite o valor de seu saque: 536\n",
            "\n",
            "  Você receberá notas de 100: 5\n",
            "  Você receberá notas de 50:  0\n",
            "  Você receberá notas de 10:  3\n",
            "  Você receberá notas de 5: 1\n",
            "  Você receberá notas de 1: 1\n",
            "  \n"
          ],
          "name": "stdout"
        }
      ]
    }
  ]
}