{
  "nbformat": 4,
  "nbformat_minor": 0,
  "metadata": {
    "colab": {
      "name": "Exercicios_String.ipynb",
      "provenance": [],
      "collapsed_sections": [],
      "include_colab_link": true
    },
    "kernelspec": {
      "name": "python3",
      "display_name": "Python 3"
    },
    "language_info": {
      "name": "python"
    }
  },
  "cells": [
    {
      "cell_type": "markdown",
      "metadata": {
        "id": "view-in-github",
        "colab_type": "text"
      },
      "source": [
        "<a href=\"https://colab.research.google.com/github/HIKARO-290/Python-Exercises/blob/main/Exercicios_String.ipynb\" target=\"_parent\"><img src=\"https://colab.research.google.com/assets/colab-badge.svg\" alt=\"Open In Colab\"/></a>"
      ]
    },
    {
      "cell_type": "markdown",
      "metadata": {
        "id": "wbV2YraddQOF"
      },
      "source": [
        "01 - Considere a string A = \"Os limites só existem se você os deixar existir.(goku)\".\n",
        "\n",
        "Que fatia corresponde a (goku)?"
      ]
    },
    {
      "cell_type": "code",
      "metadata": {
        "colab": {
          "base_uri": "https://localhost:8080/"
        },
        "id": "CLLsJgHReR6J",
        "outputId": "50352b5a-2df3-4534-82c2-393e2877d67c"
      },
      "source": [
        "A = \"Os limites só existem se você os deixar existir.(goku)\"\n",
        "print(A.find(\"goku\"))\n",
        "\n",
        "print(f\"a parte corresponde de {A.find('g')} a {A.find('u')}\")"
      ],
      "execution_count": 19,
      "outputs": [
        {
          "output_type": "stream",
          "text": [
            "49\n",
            "a parte corresponde de 49 a 52\n"
          ],
          "name": "stdout"
        }
      ]
    },
    {
      "cell_type": "markdown",
      "metadata": {
        "id": "2hA2Tw6sdR95"
      },
      "source": [
        "02 - Escreva um programa que solicite uma frase ao usuário e escreva a frase toda em maiúscula e sem espaços em branco."
      ]
    },
    {
      "cell_type": "code",
      "metadata": {
        "colab": {
          "base_uri": "https://localhost:8080/"
        },
        "id": "nC-YEyXceiqw",
        "outputId": "41147258-11b3-442a-ff0c-ccd894a01490"
      },
      "source": [
        "frase = input(\"digite uma frase completa\")\n",
        "print(frase.replace(\" \",\"\").upper())"
      ],
      "execution_count": 10,
      "outputs": [
        {
          "output_type": "stream",
          "text": [
            "digite uma frase completao maracuja esta maduro\n",
            "OMARACUJAESTAMADURO\n"
          ],
          "name": "stdout"
        }
      ]
    },
    {
      "cell_type": "markdown",
      "metadata": {
        "id": "EntkYdeSdT_j"
      },
      "source": [
        "03 - Elabore um programa que recebe o seu nome, endereço e hobby e mostra cada uma das informações da seguinte forma:\n",
        "- Nome -> Letra maiúscula\n",
        "- Endereço -> Letra minúscula\n",
        "- Hobby -> Primeira letra maiúscula\n",
        "\n",
        "**Exemplo Entrada:**\n",
        "```\n",
        "Nome: bruno fabri\n",
        "Endereço: Rua ABC\n",
        "Hobby: jogar cs\n",
        "```\n",
        "\n",
        "**Exemplo Saída:**\n",
        "```\n",
        "Nome: BRUNO FABRI\n",
        "Endereço: rua abc\n",
        "Hobby: Jogar cs\n",
        "```"
      ]
    },
    {
      "cell_type": "code",
      "metadata": {
        "colab": {
          "base_uri": "https://localhost:8080/"
        },
        "id": "ZLO1-Uc5f9GZ",
        "outputId": "84c82154-b3f5-465f-c991-bfc63bae7788"
      },
      "source": [
        "nome = input(\"digite seu nome \\n\")\n",
        "endereco = input(\"digite seu endereço \\n\")\n",
        "hobby = input(\"digite seu dobby \\n\")\n",
        "print(\"\\n\")\n",
        "print(nome.upper())\n",
        "print(endereco.lower())\n",
        "print(hobby.capitalize())"
      ],
      "execution_count": 17,
      "outputs": [
        {
          "output_type": "stream",
          "text": [
            "digite seu nome \n",
            "hikaro fernandes\n",
            "digite seu endereço \n",
            "rua santos dumont\n",
            "digite seu dobby \n",
            "programar\n",
            "\n",
            "\n",
            "HIKARO FERNANDES\n",
            "rua santos dumont\n",
            "Programar\n"
          ],
          "name": "stdout"
        }
      ]
    }
  ]
}