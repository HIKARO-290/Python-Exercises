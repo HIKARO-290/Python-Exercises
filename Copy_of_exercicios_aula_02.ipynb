{
  "nbformat": 4,
  "nbformat_minor": 0,
  "metadata": {
    "colab": {
      "name": "Copy of exercicios aula 02",
      "provenance": [],
      "collapsed_sections": [],
      "include_colab_link": true
    },
    "kernelspec": {
      "name": "python3",
      "display_name": "Python 3"
    },
    "language_info": {
      "name": "python"
    }
  },
  "cells": [
    {
      "cell_type": "markdown",
      "metadata": {
        "id": "view-in-github",
        "colab_type": "text"
      },
      "source": [
        "<a href=\"https://colab.research.google.com/github/HIKARO-290/python-course/blob/main/Copy_of_exercicios_aula_02.ipynb\" target=\"_parent\"><img src=\"https://colab.research.google.com/assets/colab-badge.svg\" alt=\"Open In Colab\"/></a>"
      ]
    },
    {
      "cell_type": "markdown",
      "metadata": {
        "id": "n_igYcmdk6U9"
      },
      "source": [
        "# **Exercícios para treinar:**"
      ]
    },
    {
      "cell_type": "markdown",
      "metadata": {
        "id": "rRyZR6ZAlEHU"
      },
      "source": [
        "1. **Frase na tela** - Implemente um programa que escreve na tela a frase \"O primeiro programa a gente nunca esquece!\".\n",
        "\n",
        "2. **Etiqueta** - Elabore um programa que escreve seu nome completo na primeira linha, seu endereço na segunda e o CEP e telefone na terceira.\n",
        "\n",
        "3. **Letra de música** - Faça um programa que mostre na tela uma letra de música que você gosta (proibido letras do Justin Bieber).\n",
        "\n",
        "4. **Tabela de notas** - Você foi contratado ou contratada por uma escola pra fazer o sistema de boletim dos alunos. Como primeiro passo, escreva um programa que produza a seguinte saída:\n",
        "```\n",
        "ALUNO (A)  NOTA\n",
        "=========  ====\n",
        "ALINE      9.0\n",
        "MÁRIO      DEZ\n",
        "SÉRGIO     4.5\n",
        "SHIRLEY    7.0\n",
        "```\n",
        "\n",
        "5. **Menu** - Elabore um programa que mostre o seguinte menu na tela:\n",
        "```\n",
        "Cadastro de Clientes\n",
        "0 - Fim\n",
        "1 - Inclui\n",
        "2 - Altera\n",
        "3 - Exclui\n",
        "4 - Consulta\n",
        "Digite uma opção: \n",
        "```\n",
        "Ao digitar um valor para a opção, o programa exibe qual opção foi escolhida.\n",
        "```\n",
        "Você escolheu a opção '0'.\n",
        "```\n",
        "\n",
        "6. **Calculadora de Dano** - Escreva um programa que receba dois valores digitados pelo usuário:\n",
        "  - Quantidade de vida de um monstro (entre 10 e 50);\n",
        "  - Valor do ataque do jogador por turno (entre 5 e 10);\n",
        "  - Baseado nos valores digitados, exiba a quantidade de turnos que o jogador irá demorar para conseguir derrotar o monstro.\n",
        "  - ```\n",
        "    O jogador irá derrotar o monstro em 8 turnos.\n",
        "    ```"
      ]
    },
    {
      "cell_type": "code",
      "metadata": {
        "id": "xilSLU4_WeYZ"
      },
      "source": [
        ""
      ],
      "execution_count": null,
      "outputs": []
    },
    {
      "cell_type": "markdown",
      "metadata": {
        "id": "ox8qGBdZ7kmk"
      },
      "source": [
        "01\n"
      ]
    },
    {
      "cell_type": "code",
      "metadata": {
        "colab": {
          "base_uri": "https://localhost:8080/"
        },
        "id": "tthGV8_q7iQF",
        "outputId": "3fa3b280-da8f-4371-ba58-f8fb5136b319"
      },
      "source": [
        "print(\"O primeiro programa a gente nunca esquece!\")"
      ],
      "execution_count": null,
      "outputs": [
        {
          "output_type": "stream",
          "text": [
            "O primeiro programa a gente nunca esquece!\n"
          ],
          "name": "stdout"
        }
      ]
    },
    {
      "cell_type": "markdown",
      "metadata": {
        "id": "ESiBCogM7-VX"
      },
      "source": [
        "02\n"
      ]
    },
    {
      "cell_type": "code",
      "metadata": {
        "colab": {
          "base_uri": "https://localhost:8080/"
        },
        "id": "jq5X2DG_8DwQ",
        "outputId": "0f639bc1-24cc-4a65-c740-3e488b8799a7"
      },
      "source": [
        "nome = input(\"digite o nome\\n\")\n",
        "endereco = input(\"digite seu endereço\\n\")\n",
        "ceptell= input(\"digite seu cep e telefone\\n \")\n",
        "print(f\"nome: {nome}\")\n",
        "print(f\"endereço: {endereco}\")\n",
        "print(f\"cep e telefone: {ceptell}\")"
      ],
      "execution_count": null,
      "outputs": [
        {
          "output_type": "stream",
          "text": [
            "digite o nome\n",
            "hikaro\n",
            "digite seu endereço\n",
            "santos dumont\n",
            "digite seu cep e telefone\n",
            "740000 666.\n",
            "nome: hikaro\n",
            "endereço: santos dumont\n",
            "cep e telefone: 740000 666.\n"
          ],
          "name": "stdout"
        }
      ]
    },
    {
      "cell_type": "markdown",
      "metadata": {
        "id": "3weE8WyE_N-W"
      },
      "source": [
        "03\n",
        "\n"
      ]
    },
    {
      "cell_type": "code",
      "metadata": {
        "colab": {
          "base_uri": "https://localhost:8080/"
        },
        "id": "cu81sWgz_lIG",
        "outputId": "109f7b15-be76-43fa-f7f1-f662d5e78062"
      },
      "source": [
        "print(\"(I'm only human) \\n (I'm only, I'm only) \\n (I'm only human, human) \\n \\n Maybe I'm foolish \\n Maybe I'm blind \\n Thinking I can see through this \\n And see what's behind \\n Got no way to prove it \\n So maybe I'm lying \\n But I'm only human after all \\n I'm only human after all \\n Don't put your blame on me \\n Don't put your blame on me \\n \\n Take a look in the mirror \\n And what do you see \\n Do you see it clearer \\n Or are you deceived \\n In what you believe? \\n 'Cause I'm only human after all \\n You're only human after all \\n Don't put the blame on me \\n Don't put your blame on me \\n Some people got the real problems \\n Some people out of luck \\n Some people think I can solve them \\n Lord, heavens above \\n I'm only human after all \\n I'm only human after all \\n Don't put the blame on me \\n Don't put the blame on me \\n \\n Don't ask my opinion \\n Don't ask me to lie \\n Then beg for forgiveness \\n For making you cry \\n Making you cry \\n 'Cause I'm only human after all \\n I'm only human after all \\n Don't put your blame on me \\n Don't put the blame on me \\n \\n Oh, some people got the real problems \\n Some people out of luck \\n Some people think I can solve them \\n Lord, heavens above \\n I'm only human after all \\n I'm only human after all \\n Don't put the blame on me \\n Don't put the blame on me \\n \\n I'm only human \\n I make mistakes \\n I'm only human \\n That's all it takes \\n To put the blame on me \\n Don't put the blame on me \\n \\n 'Cause I'm no prophet or Messiah \\n Should go looking somewhere higher \\n I'm only human after all \\n I'm only human after all \\n Don't put the blame on me \\n Don't put the blame on me \\n \\n I'm only human \\n I do what I can \\n I'm just a man \\n I do what I can \\n Don't put the blame on me \\n Don't put your blame on meprint\")\n"
      ],
      "execution_count": null,
      "outputs": [
        {
          "output_type": "stream",
          "text": [
            "(I'm only human) \n",
            " (I'm only, I'm only) \n",
            " (I'm only human, human) \n",
            " \n",
            " Maybe I'm foolish \n",
            " Maybe I'm blind \n",
            " Thinking I can see through this \n",
            " And see what's behind \n",
            " Got no way to prove it \n",
            " So maybe I'm lying \n",
            " But I'm only human after all \n",
            " I'm only human after all \n",
            " Don't put your blame on me \n",
            " Don't put your blame on me \n",
            " \n",
            " Take a look in the mirror \n",
            " And what do you see \n",
            " Do you see it clearer \n",
            " Or are you deceived \n",
            " In what you believe? \n",
            " 'Cause I'm only human after all \n",
            " You're only human after all \n",
            " Don't put the blame on me \n",
            " Don't put your blame on me \n",
            " Some people got the real problems \n",
            " Some people out of luck \n",
            " Some people think I can solve them \n",
            " Lord, heavens above \n",
            " I'm only human after all \n",
            " I'm only human after all \n",
            " Don't put the blame on me \n",
            " Don't put the blame on me \n",
            " \n",
            " Don't ask my opinion \n",
            " Don't ask me to lie \n",
            " Then beg for forgiveness \n",
            " For making you cry \n",
            " Making you cry \n",
            " 'Cause I'm only human after all \n",
            " I'm only human after all \n",
            " Don't put your blame on me \n",
            " Don't put the blame on me \n",
            " \n",
            " Oh, some people got the real problems \n",
            " Some people out of luck \n",
            " Some people think I can solve them \n",
            " Lord, heavens above \n",
            " I'm only human after all \n",
            " I'm only human after all \n",
            " Don't put the blame on me \n",
            " Don't put the blame on me \n",
            " \n",
            " I'm only human \n",
            " I make mistakes \n",
            " I'm only human \n",
            " That's all it takes \n",
            " To put the blame on me \n",
            " Don't put the blame on me \n",
            " \n",
            " 'Cause I'm no prophet or Messiah \n",
            " Should go looking somewhere higher \n",
            " I'm only human after all \n",
            " I'm only human after all \n",
            " Don't put the blame on me \n",
            " Don't put the blame on me \n",
            " \n",
            " I'm only human \n",
            " I do what I can \n",
            " I'm just a man \n",
            " I do what I can \n",
            " Don't put the blame on me \n",
            " Don't put your blame on meprint\n"
          ],
          "name": "stdout"
        }
      ]
    },
    {
      "cell_type": "code",
      "metadata": {
        "id": "pXIUbeZeVrSo"
      },
      "source": [
        ""
      ],
      "execution_count": null,
      "outputs": []
    },
    {
      "cell_type": "markdown",
      "metadata": {
        "id": "cJgSmHyiFUMG"
      },
      "source": [
        "04\n"
      ]
    },
    {
      "cell_type": "code",
      "metadata": {
        "colab": {
          "base_uri": "https://localhost:8080/"
        },
        "id": "7g2LHB9DDqVw",
        "outputId": "98954f83-2482-4b42-d849-e7007651252b"
      },
      "source": [
        "print(\"ALUNO (A) NOTA\")\n",
        "print(\"=========  ====\")\n",
        "print(\"ALINE      9.0\")\n",
        "print(\"MÁRIO      DEZ\")\n",
        "print(\"SÉRGIO     4.5\")\n",
        "print(\"SHIRLEY    7.0\")"
      ],
      "execution_count": null,
      "outputs": [
        {
          "output_type": "stream",
          "text": [
            "ALUNO (A) NOTA\n",
            "=========  ====\n",
            "ALINE      9.0\n",
            "MÁRIO      DEZ\n",
            "SÉRGIO     4.5\n",
            "SHIRLEY    7.0\n"
          ],
          "name": "stdout"
        }
      ]
    },
    {
      "cell_type": "markdown",
      "metadata": {
        "id": "tMHRjFxnJ20R"
      },
      "source": [
        "5\n"
      ]
    },
    {
      "cell_type": "code",
      "metadata": {
        "colab": {
          "base_uri": "https://localhost:8080/"
        },
        "id": "9hQQzelmJ34j",
        "outputId": "4ee73565-b956-49fe-cf9f-41c61f32dc65"
      },
      "source": [
        "print(\"Cadastro de Clientes\")\n",
        "print(\"0 - Fim\")\n",
        "print(\"1 - Inclui\")\n",
        "print(\"2 - Altera\")\n",
        "print(\"3 - Exclui\")\n",
        "print(\"4 - Consulta\")\n",
        "opcao = int(input(\"Digite uma opção: \"))\n",
        "print(opcao)"
      ],
      "execution_count": null,
      "outputs": [
        {
          "output_type": "stream",
          "text": [
            "Cadastro de Clientes\n",
            "0 - Fim\n",
            "1 - Inclui\n",
            "2 - Altera\n",
            "3 - Exclui\n",
            "4 - Consulta\n"
          ],
          "name": "stdout"
        }
      ]
    },
    {
      "cell_type": "markdown",
      "metadata": {
        "id": "K9Yh4TmvLANy"
      },
      "source": [
        "6"
      ]
    },
    {
      "cell_type": "code",
      "metadata": {
        "colab": {
          "base_uri": "https://localhost:8080/"
        },
        "id": "kcCvnaPSLByy",
        "outputId": "7bde5e17-9b62-4534-c7ee-5105ad412042"
      },
      "source": [
        "from math import ceil\n",
        "vida = int(input(\"digite o valor de vida do monstro entre 10 e 50 \\n\"))\n",
        "ataque = int(input(\"digite o valor de dano por turno de 5 a 10 \\n\"))\n",
        "dano = ceil(vida/ataque)\n",
        "print(f\"O player gastaria {int(dano)} turnos para matar o monstro\")\n"
      ],
      "execution_count": null,
      "outputs": [
        {
          "output_type": "stream",
          "text": [
            "digite o valor de vida do monstro entre 10 e 50 \n",
            "40\n",
            "digite o valor de dano por turno de 5 a 10 \n",
            "10\n",
            "O player gastaria 4 turnos para matar o monstro\n"
          ],
          "name": "stdout"
        }
      ]
    },
    {
      "cell_type": "markdown",
      "metadata": {
        "id": "HqgnPaCGqMPB"
      },
      "source": [
        "# Exercícios"
      ]
    },
    {
      "cell_type": "markdown",
      "metadata": {
        "id": "U-ltrv0jqPBq"
      },
      "source": [
        "## #01 - E os 10% do garçom?**\n",
        "\n",
        "- Defina uma variável para o valor de uma refeição que custou R$ 42,54;\n",
        "\n",
        "- Defina uma variável para o valor da taxa de serviço que é de 10%;\n",
        "\n",
        "- Defina uma variável que calcula o valor total da conta e exiba-o no console com essa formatação: R$ XXXX.XX."
      ]
    },
    {
      "cell_type": "code",
      "metadata": {
        "id": "jbcSv4NFkB1C",
        "colab": {
          "base_uri": "https://localhost:8080/"
        },
        "outputId": "2342fcef-3863-4bc7-a67f-18555488ded2"
      },
      "source": [
        "refeicao = float(42.54)\n",
        "servico = 10\n",
        "gorgeta = float(refeicao * servico / 100)\n",
        "total = float(refeicao + gorgeta)\n",
        "print(f\"O valor da refeição é de: {refeicao}\")\n",
        "print(f\"O percentual do serviço é de {servico}\")\n",
        "print(f\"O valor total será de: R$ {total:.2f}.\")"
      ],
      "execution_count": null,
      "outputs": [
        {
          "output_type": "stream",
          "text": [
            "O valor da refeição é de: 42.54\n",
            "O percentual do serviço é de 10\n",
            "O valor total será de: R$ 46.79.\n"
          ],
          "name": "stdout"
        }
      ]
    },
    {
      "cell_type": "markdown",
      "metadata": {
        "id": "JR3-KgsTqR41"
      },
      "source": [
        "## #02 - Qual o valor do troco?\n",
        "\n",
        "*   Defina uma variável para o valor de uma compra que custou R$100,98;\n",
        "\n",
        "*   Defina uma variável para o valor que o cliente pagou R$150,00;\n",
        "\n",
        "*   Defina uma variável que calcula o valor do troco e exiba-o no console com o valor final arredondado."
      ]
    },
    {
      "cell_type": "code",
      "metadata": {
        "id": "hBf3kE_pksAI",
        "colab": {
          "base_uri": "https://localhost:8080/"
        },
        "outputId": "3a36fdd9-6a0b-4fdc-b659-60436a147426"
      },
      "source": [
        "preco = 100.98\n",
        "pago = 150.00\n",
        "troco = pago - preco\n",
        "print(f\"O troco será de: {int(troco)}\")"
      ],
      "execution_count": null,
      "outputs": [
        {
          "output_type": "stream",
          "text": [
            "O troco será de: 49\n"
          ],
          "name": "stdout"
        }
      ]
    },
    {
      "cell_type": "markdown",
      "metadata": {
        "id": "2Uu84Uqtkunt"
      },
      "source": [
        "## #03 - Você está na flor da idade?\n",
        "\n",
        "*  Defina uma variável para o valor do ano do nascimento;\n",
        "*  Defina uma variável para o valor do ano atual;\n",
        "*  Defina uma variável que calcula o valor final da idade da pessoa;\n",
        "*  Exiba uma mensagem final dizendo a idade da pessoa e a mensagem \"Você está na flor da idade\"."
      ]
    },
    {
      "cell_type": "code",
      "metadata": {
        "id": "kyXxJV3nk14Z",
        "colab": {
          "base_uri": "https://localhost:8080/"
        },
        "outputId": "5ae9581d-d53f-4101-ae21-834d4727cebd"
      },
      "source": [
        "nascimento = int(input(\"digite seu ano de nascimento: \\n\"))\n",
        "atual = int(input(\"digite o ano atual \\n\"))\n",
        "idade =  atual - nascimento\n",
        "print(f\"Com {idade} anos. Você está na flor da idade\")"
      ],
      "execution_count": null,
      "outputs": [
        {
          "output_type": "stream",
          "text": [
            "digite seu ano de nascimento: \n",
            "1980\n",
            "digite o ano atual \n",
            "2021\n",
            "Com 41 anos. Você está na flor da idade\n"
          ],
          "name": "stdout"
        }
      ]
    },
    {
      "cell_type": "markdown",
      "metadata": {
        "id": "w1T7s2q0p-pt"
      },
      "source": [
        "# Mini projetos"
      ]
    },
    {
      "cell_type": "markdown",
      "metadata": {
        "id": "meUw7PTwqC-Y"
      },
      "source": [
        "## #01 - Conversor de moedas\n",
        "\n",
        "Crie um programa que solicite um um valor em real ao usuário e converta esse valor, para:\n",
        "\n",
        "- DOLAR,\n",
        "- EURO,\n",
        "- LIBRA ESTERLINA,\n",
        "- DÓLAR CANADENSE,\n",
        "- PESO ARGENTINO,\n",
        "- PESO CHILENO.\n",
        "\n",
        "Para esse exercício você precisará realizar uma pesquisa para saber a cotação de cada moeda em real. Mostrar o resultado no formato $ XXXX.XX"
      ]
    },
    {
      "cell_type": "code",
      "metadata": {
        "id": "q481snSClrXe",
        "colab": {
          "base_uri": "https://localhost:8080/"
        },
        "outputId": "fe9ab82c-3284-493e-f3ed-42b3b6145f27"
      },
      "source": [
        "valor = float(input(\"digite um valor em real para ser cotado \\n\"))\n",
        "dolar = valor / 5.04\n",
        "euro = valor / 6.14\n",
        "librae = valor / 7.1160\n",
        "dolarc = valor / 4.16\n",
        "pesoa = valor / 0.053\n",
        "pesoc = valor / 0.0070\n",
        "print(f\"\\nO valor em DOLAR será de: ${float(dolar):.2f}\")\n",
        "print(f\"O valor em EURO será de: €{float(euro):.2f}\")\n",
        "print(f\"O valor em LIBRA ESTERLINA será de: £{float(librae):.2f}\")\n",
        "print(f\"O valor em DÓLAR CANADENSE será de: C${float(dolarc):.2f}\")\n",
        "print(f\"O valor em PESO ARGENTINO será de: ${float(pesoa):.2f}\")\n",
        "print(f\"O valor em PESO CHILENO será de: ${float(pesoc):.2f}\")"
      ],
      "execution_count": null,
      "outputs": [
        {
          "output_type": "stream",
          "text": [
            "digite um valor em real para ser cotado \n",
            "1000\n",
            "\n",
            "O valor em DOLAR será de: $198.41\n",
            "O valor em EURO será de: €162.87\n",
            "O valor em LIBRA ESTERLINA será de: £140.53\n",
            "O valor em DÓLAR CANADENSE será de: C$240.38\n",
            "O valor em PESO ARGENTINO será de: $18867.92\n",
            "O valor em PESO CHILENO será de: $142857.14\n"
          ],
          "name": "stdout"
        }
      ]
    },
    {
      "cell_type": "markdown",
      "metadata": {
        "id": "KK9PIcJ4qIF9"
      },
      "source": [
        "## #02 - Calculadora de aumento de aluguel\n",
        "\n",
        "Vamos construir um programa que irá calcular o aumento anual do seu aluguel em duas partes:\n",
        "\n",
        "### Parte 1\n",
        "A sua calculadora vai receber o `valor do aluguel` e calcular o aumento baseado no `IGPM de 31%`. A calculadora deve apresentar o aluguel reajustado no formato `R$ XXXX.XX`\n",
        "\n",
        "**Exemplo:**\n",
        "```\n",
        "Valor do aluguel = 1000\n",
        "Valor do aluguel reajustado = R$ 1310,00"
      ]
    },
    {
      "cell_type": "code",
      "metadata": {
        "id": "VdjHa9Csl0Lg",
        "colab": {
          "base_uri": "https://localhost:8080/"
        },
        "outputId": "9f59f56b-591e-4fcd-a7c8-5e0f78a2838e"
      },
      "source": [
        "aluguel = float(input(\"digite o valor do aluguel: \\n\"))\n",
        "igpm = 0.31\n",
        "valorFinal = aluguel * igpm\n",
        "print(f\"o valor total reajustado é de: R$ {(valorFinal + aluguel):.2f}\")"
      ],
      "execution_count": null,
      "outputs": [
        {
          "output_type": "stream",
          "text": [
            "digite o valor do aluguel: \n",
            "1000\n",
            "o valor total reajustado é de: R$ 1310.00\n"
          ],
          "name": "stdout"
        }
      ]
    },
    {
      "cell_type": "markdown",
      "metadata": {
        "id": "lKTwnuNMl8rP"
      },
      "source": [
        "### Parte 2\n",
        "Agora, altere sua calculadora para receber além do `valor do aluguel`, o percentual do reajuste no formato `XX%`.  \n",
        "\n",
        "**Dica:** Descubra uma forma de transformar o percentual recebido em um número para efetuar o cálculo.\n",
        "\n",
        "**Exemplo:**\n",
        "```\n",
        "Valor do aluguel = 1000\n",
        "Percentual do reajuste = 31%\n",
        "Valor do aluguel reajustado = R% 1310,00\n",
        "```"
      ]
    },
    {
      "cell_type": "code",
      "metadata": {
        "id": "aw2Zk_9KmA85",
        "colab": {
          "base_uri": "https://localhost:8080/"
        },
        "outputId": "92eed515-016c-49c5-abbe-b0e7c335ac45"
      },
      "source": [
        "aluguel = float(input(\"digite o valor do aluguel: \\n\"))\n",
        "igpm = float(input(\"digite o percentual de reajuste\"))\n",
        "valorFinal = aluguel * igpm/100\n",
        "print(f\"o valor total reajustado é de: R$ {(valorFinal + aluguel):.2f}\")"
      ],
      "execution_count": null,
      "outputs": [
        {
          "output_type": "stream",
          "text": [
            "digite o valor do aluguel: \n",
            "5320\n",
            "digite o percentual de reajuste35.5\n",
            "o valor total reajustado é de: R$ 7208.60\n"
          ],
          "name": "stdout"
        }
      ]
    }
  ]
}