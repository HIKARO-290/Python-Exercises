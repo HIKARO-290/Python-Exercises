{
  "nbformat": 4,
  "nbformat_minor": 0,
  "metadata": {
    "colab": {
      "name": "exercícios aula 04",
      "provenance": [],
      "collapsed_sections": [],
      "authorship_tag": "ABX9TyMPQS0syYiPRBuU+VlQtPjR",
      "include_colab_link": true
    },
    "kernelspec": {
      "name": "python3",
      "display_name": "Python 3"
    },
    "language_info": {
      "name": "python"
    }
  },
  "cells": [
    {
      "cell_type": "markdown",
      "metadata": {
        "id": "view-in-github",
        "colab_type": "text"
      },
      "source": [
        "<a href=\"https://colab.research.google.com/github/HIKARO-290/Python-Exercises/blob/main/exerc%C3%ADcios_aula_04.ipynb\" target=\"_parent\"><img src=\"https://colab.research.google.com/assets/colab-badge.svg\" alt=\"Open In Colab\"/></a>"
      ]
    },
    {
      "cell_type": "markdown",
      "metadata": {
        "id": "PQYo_O3RGmTq"
      },
      "source": [
        "exercício 01\n"
      ]
    },
    {
      "cell_type": "markdown",
      "metadata": {
        "id": "qN_vSOm6S7q8"
      },
      "source": [
        "parte 01\n"
      ]
    },
    {
      "cell_type": "code",
      "metadata": {
        "colab": {
          "base_uri": "https://localhost:8080/"
        },
        "id": "q6VWb5_7DRUE",
        "outputId": "c8559ee6-031a-43b8-f880-361daa6ed938"
      },
      "source": [
        "valor = int(input(\"digite um valor para ser verificado \\n\"))\n",
        "if valor%2 == 0 :\n",
        "  print(\"O valor é par\")\n",
        "else :\n",
        "  print(\"O valor é impar\")"
      ],
      "execution_count": 23,
      "outputs": [
        {
          "output_type": "stream",
          "text": [
            "digite um valor para ser verificado \n",
            "4\n",
            "O valor é par\n"
          ],
          "name": "stdout"
        }
      ]
    },
    {
      "cell_type": "markdown",
      "metadata": {
        "id": "MGJyh_IvS-RV"
      },
      "source": [
        "parte 02"
      ]
    },
    {
      "cell_type": "code",
      "metadata": {
        "colab": {
          "base_uri": "https://localhost:8080/"
        },
        "id": "jCF1h0H1FHVq",
        "outputId": "aecc5040-71e2-4112-d969-c12d88e263f2"
      },
      "source": [
        "valor = int(input(\"digite um valor para ser verificado \\n\"))\n",
        "\n",
        "if valor!= 0:\n",
        "  if valor%2 == 0 :\n",
        "    print(\"O valor é par\")\n",
        "  else :\n",
        "    print(\"O valor é impar\")\n",
        "else:\n",
        "  print(\"O numero digitado não pode ser 0\")"
      ],
      "execution_count": 24,
      "outputs": [
        {
          "output_type": "stream",
          "text": [
            "digite um valor para ser verificado \n",
            "0\n",
            "O numero digitado não pode ser 0\n"
          ],
          "name": "stdout"
        }
      ]
    },
    {
      "cell_type": "markdown",
      "metadata": {
        "id": "GdwD2TTkGkDh"
      },
      "source": [
        "exercício 02\n"
      ]
    },
    {
      "cell_type": "markdown",
      "metadata": {
        "id": "6l37wzJCTANe"
      },
      "source": [
        "parte 01"
      ]
    },
    {
      "cell_type": "code",
      "metadata": {
        "colab": {
          "base_uri": "https://localhost:8080/"
        },
        "id": "-0Q7F9apGH-n",
        "outputId": "ba3e8a5a-e42f-46d2-91b9-5e0a596b0968"
      },
      "source": [
        "valor = int(input(\"digite um valor para ser verificado \\n\"))\n",
        "\n",
        "if valor > 0 :\n",
        "  print(\"O valor é positivo\")\n",
        "else :\n",
        "  print(\"O valor é negativo\")"
      ],
      "execution_count": 26,
      "outputs": [
        {
          "output_type": "stream",
          "text": [
            "digite um valor para ser verificado \n",
            "6\n",
            "O valor é positivo\n"
          ],
          "name": "stdout"
        }
      ]
    },
    {
      "cell_type": "markdown",
      "metadata": {
        "id": "KcwsNuuJTB0n"
      },
      "source": [
        "parte 02"
      ]
    },
    {
      "cell_type": "code",
      "metadata": {
        "colab": {
          "base_uri": "https://localhost:8080/"
        },
        "id": "sRKTqobJGXBV",
        "outputId": "690f7352-0236-4576-bbb9-a2c5430a0069"
      },
      "source": [
        "valor = int(input(\"digite um valor para ser verificado \\n\"))\n",
        "\n",
        "\n",
        "if valor == 0 :\n",
        "  print(\"O valor é neutro não é aceitavel\")\n",
        "elif valor >0 :\n",
        "  print(\"O valor é positivo e não é zero\")\n",
        "else:\n",
        "  print(\"O valor é negativo e não é zero\")\n",
        "  \n"
      ],
      "execution_count": 29,
      "outputs": [
        {
          "output_type": "stream",
          "text": [
            "digite um valor para ser verificado \n",
            "0\n",
            "O valor é neutro não é aceitavel\n"
          ],
          "name": "stdout"
        }
      ]
    },
    {
      "cell_type": "markdown",
      "metadata": {
        "id": "EILif6jHObXe"
      },
      "source": [
        "exercício 03\n"
      ]
    },
    {
      "cell_type": "code",
      "metadata": {
        "id": "mneD_P3ROfuw"
      },
      "source": [
        "valor01 = int(input(\"digite um valor \\n\"))\n",
        "valor02 = int(input(\"digite um valor \\n\"))\n",
        "if valor01>valor02:\n",
        "  print(f\"\\n o maior valor é: {valor01}\")\n",
        "elif valor01==valor02:\n",
        "  print(\"\\n NUMEROS IGUAIS\")\n",
        "else:\n",
        "  print(f\"\\n O maior numero é: {valor02}\")"
      ],
      "execution_count": null,
      "outputs": []
    },
    {
      "cell_type": "markdown",
      "metadata": {
        "id": "GxtEhZnuOgNY"
      },
      "source": [
        "exercício 04\n"
      ]
    },
    {
      "cell_type": "code",
      "metadata": {
        "colab": {
          "base_uri": "https://localhost:8080/"
        },
        "id": "q4rt-JEOOh-p",
        "outputId": "59fe3c8d-a99e-47e2-8816-69cd0cce9a45"
      },
      "source": [
        "sexobiologico = input(\"digite seu sexo biológico M para masculino F para feminino \\n\")\n",
        "\n",
        "if sexobiologico[0].strip() == \"m\" or sexobiologico[0].strip() ==\"M\":\n",
        "  print(\"masculino\")\n",
        "elif sexobiologico[0].strip() == \"f\" or sexobiologico[0].strip() ==\"F\":\n",
        "  print(\"feminino\")\n",
        "else:\n",
        "  print(\"sexo biologico invalido\")\n"
      ],
      "execution_count": 47,
      "outputs": [
        {
          "output_type": "stream",
          "text": [
            "digite seu sexo biológico M para masculino F para feminino \n",
            "m\n",
            "masculino\n"
          ],
          "name": "stdout"
        }
      ]
    }
  ]
}