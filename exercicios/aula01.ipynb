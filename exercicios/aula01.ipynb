{
  "nbformat": 4,
  "nbformat_minor": 0,
  "metadata": {
    "colab": {
      "name": "aula01.ipynb",
      "provenance": [],
      "collapsed_sections": [],
      "authorship_tag": "ABX9TyOvZ1+q+P1vJziT0oiBMFTg",
      "include_colab_link": true
    },
    "kernelspec": {
      "name": "python3",
      "display_name": "Python 3"
    },
    "language_info": {
      "name": "python"
    }
  },
  "cells": [
    {
      "cell_type": "markdown",
      "metadata": {
        "id": "view-in-github",
        "colab_type": "text"
      },
      "source": [
        "<a href=\"https://colab.research.google.com/github/HIKARO-290/python-course/blob/main/aula01.ipynb\" target=\"_parent\"><img src=\"https://colab.research.google.com/assets/colab-badge.svg\" alt=\"Open In Colab\"/></a>"
      ]
    },
    {
      "cell_type": "code",
      "metadata": {
        "colab": {
          "base_uri": "https://localhost:8080/"
        },
        "id": "kNd3EZiNFKdK",
        "outputId": "9b29f453-526c-475d-fb54-a2a27d9e560a"
      },
      "source": [
        "print(\"Olá Mundo\") # imprime uma string determinada | print one string determined\n"
      ],
      "execution_count": null,
      "outputs": [
        {
          "output_type": "stream",
          "text": [
            "Olá Mundo\n"
          ],
          "name": "stdout"
        }
      ]
    },
    {
      "cell_type": "code",
      "metadata": {
        "colab": {
          "base_uri": "https://localhost:8080/"
        },
        "id": "kZYptzPgHA42",
        "outputId": "2ee137ea-c8c9-4b12-fcf8-d958663d74dc"
      },
      "source": [
        "idade = 28 # iniciando variavel | initialize variable\n",
        "\n",
        "print(idade)"
      ],
      "execution_count": null,
      "outputs": [
        {
          "output_type": "stream",
          "text": [
            "28\n"
          ],
          "name": "stdout"
        }
      ]
    },
    {
      "cell_type": "code",
      "metadata": {
        "colab": {
          "base_uri": "https://localhost:8080/"
        },
        "id": "h1uRHjKzJVmZ",
        "outputId": "8fd7ba61-b157-4885-8eec-0ba41aa1d03c"
      },
      "source": [
        "# str = String\n",
        "# int = Numeros inteiros\n",
        "# float = Numeros com ponto flutuante ou decimais\n",
        "# bool = Booleanos - true ou false 1 ou 0\n",
        "\n",
        "idade = '28'\n",
        "idade = int(idade)\n",
        "ano = 2021\n",
        "nasc = ano - idade\n",
        "print(f'O ano de nascimento é :{nasc}')\n",
        "\n",
        "idade2 = 28\n",
        "ano = 2021\n",
        "nasc = ano - idade\n",
        "print(f'O ano de nascimento é :{ {ano -idade} }')"
      ],
      "execution_count": null,
      "outputs": [
        {
          "output_type": "stream",
          "text": [
            "O ano de nascimento é :1993\n",
            "O ano de nascimento é :{1993}\n"
          ],
          "name": "stdout"
        }
      ]
    },
    {
      "cell_type": "code",
      "metadata": {
        "colab": {
          "base_uri": "https://localhost:8080/"
        },
        "id": "96jDzyPxN_yi",
        "outputId": "0c03cc56-7e2c-4376-fc27-2f7e36bfcdc6"
      },
      "source": [
        "print(\"Olá mundo!\")"
      ],
      "execution_count": null,
      "outputs": [
        {
          "output_type": "stream",
          "text": [
            "Olá mundo!\n"
          ],
          "name": "stdout"
        }
      ]
    },
    {
      "cell_type": "code",
      "metadata": {
        "colab": {
          "base_uri": "https://localhost:8080/"
        },
        "id": "CLtLKto7OHT2",
        "outputId": "d035bd02-1dc2-4125-e669-aba3de84d2d3"
      },
      "source": [
        "nome = input(\"Digite seu nome \\n\")\n",
        "endereco = input(\"Digite seu endereço \\n\")\n",
        "cep = input(\"Digite seu cep \\n\")\n",
        "print(f\"Nome: {nome} \\n\")\n",
        "print(f\"Endereço: {endereco} \\n\")\n",
        "print(f\"CEP: {cep} \\n\")"
      ],
      "execution_count": null,
      "outputs": [
        {
          "output_type": "stream",
          "text": [
            "Digite seu nome \n",
            "hikaro\n",
            "Digite seu endereço \n",
            "rua santos dumont\n",
            "Digite seu cep \n",
            "74000000\n",
            "Nome: hikaro \n",
            "\n",
            "Endereço: rua santos dumont \n",
            "\n",
            "CEP: 74000000 \n",
            "\n"
          ],
          "name": "stdout"
        }
      ]
    },
    {
      "cell_type": "code",
      "metadata": {
        "colab": {
          "base_uri": "https://localhost:8080/"
        },
        "id": "7y5Vd8P0OiuJ",
        "outputId": "b746773f-3ef4-494d-ecbe-76e678f91556"
      },
      "source": [
        "nome = input(\"digite seu nome \")\n",
        "\n",
        "print(f\"Olá {nome}! Seja bem vindo ao fantástico mundo da programação\")"
      ],
      "execution_count": null,
      "outputs": [
        {
          "output_type": "stream",
          "text": [
            "digite seu nome hikaro\n",
            "Olá hikaro! Seja bem vindo ao fantástico mundo da programação\n"
          ],
          "name": "stdout"
        }
      ]
    },
    {
      "cell_type": "code",
      "metadata": {
        "colab": {
          "base_uri": "https://localhost:8080/"
        },
        "id": "cQz8HXNlS6Mn",
        "outputId": "34584f44-ac8e-4496-f7a0-03785c261686"
      },
      "source": [
        "n1 = 10 \n",
        "n2 = 19\n",
        "soma = n1 + n2\n",
        "sub = n1 - n2\n",
        "mult = n1 * n2\n",
        "div = n1 / n2\n",
        "divint = n1 // n2\n",
        "expo = n1 ** n2\n",
        "mod = n1 % n2\n",
        "\n",
        "print(f\"soma: {soma}\\n subtração: {sub} \\n multiplicação: {mult} \\n divisão: {div} \\n divisão inteira: {divint} \\n exponencial: {expo} \\n modal: {mod}\")"
      ],
      "execution_count": null,
      "outputs": [
        {
          "output_type": "stream",
          "text": [
            "soma: 29\n",
            " subtração: -9 \n",
            " multiplicação: 190 \n",
            " divisão: 0.5263157894736842 \n",
            " divisão inteira: 0 \n",
            " exponencial: 10000000000000000000 \n",
            " modal: 10\n"
          ],
          "name": "stdout"
        }
      ]
    },
    {
      "cell_type": "code",
      "metadata": {
        "colab": {
          "base_uri": "https://localhost:8080/"
        },
        "id": "38dQ6mqXVFjP",
        "outputId": "85d24df2-0aef-49ea-8a8d-cc84c196ae1a"
      },
      "source": [
        "print(\"div\" == \"Div\")"
      ],
      "execution_count": null,
      "outputs": [
        {
          "output_type": "stream",
          "text": [
            "False\n"
          ],
          "name": "stdout"
        }
      ]
    }
  ]
}