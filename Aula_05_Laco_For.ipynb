{
  "nbformat": 4,
  "nbformat_minor": 0,
  "metadata": {
    "colab": {
      "name": "Aula_05_Laco_For.ipynb",
      "provenance": [],
      "collapsed_sections": [],
      "include_colab_link": true
    },
    "kernelspec": {
      "name": "python3",
      "display_name": "Python 3"
    },
    "language_info": {
      "name": "python"
    }
  },
  "cells": [
    {
      "cell_type": "markdown",
      "metadata": {
        "id": "view-in-github",
        "colab_type": "text"
      },
      "source": [
        "<a href=\"https://colab.research.google.com/github/HIKARO-290/Python-Exercises/blob/main/Aula_05_Laco_For.ipynb\" target=\"_parent\"><img src=\"https://colab.research.google.com/assets/colab-badge.svg\" alt=\"Open In Colab\"/></a>"
      ]
    },
    {
      "cell_type": "markdown",
      "metadata": {
        "id": "bvC7eMZckKmP"
      },
      "source": [
        "# Estrutura de repetição FOR"
      ]
    },
    {
      "cell_type": "markdown",
      "metadata": {
        "id": "QvYfJkBUjG4C"
      },
      "source": [
        "**Até agora a gente aprendeu a desviar das coisas, agora vmaos aprender a repetir elas!**\n",
        "\n",
        "Imagina que nós queremos escrever na telá olá 5 vezes, nós teriamos que colcoar:"
      ]
    },
    {
      "cell_type": "code",
      "metadata": {
        "id": "vukYj3iWdYPP"
      },
      "source": [
        "print('Olá')\n",
        "print('Olá')\n",
        "print('Olá')\n",
        "print('Olá')\n",
        "print('Olá')"
      ],
      "execution_count": null,
      "outputs": []
    },
    {
      "cell_type": "markdown",
      "metadata": {
        "id": "fI4K1rr6jUor"
      },
      "source": [
        "Mas e se eu quiser escrever isso 500 vezes? Seria inviável, por isso temos o laço for, podemos substituir o código de cima por:"
      ]
    },
    {
      "cell_type": "code",
      "metadata": {
        "id": "ZcN9pFZNjXA3"
      },
      "source": [
        "for c in range(1, 6): # De 1 a 6 porque o range ignora o ultimo número.\n",
        "   print('Olá')\n",
        "print('Fim')"
      ],
      "execution_count": null,
      "outputs": []
    },
    {
      "cell_type": "markdown",
      "metadata": {
        "id": "3O6AkdXKjXmT"
      },
      "source": [
        "O laço for é chamado de laço com variável de controle, caso acima, o c é a variável de controle.\n",
        "\n",
        "Outro exemplo, pra entendermos variáveis de controle:"
      ]
    },
    {
      "cell_type": "code",
      "metadata": {
        "id": "JXUWt0-8jaOx"
      },
      "source": [
        "for c in range(0, 5):\n",
        "   print(c) # Vai mostrar uma contagem crescente"
      ],
      "execution_count": null,
      "outputs": []
    },
    {
      "cell_type": "markdown",
      "metadata": {
        "id": "_itgYbIVjcJL"
      },
      "source": [
        "Para contagens descrescentes utilize:"
      ]
    },
    {
      "cell_type": "code",
      "metadata": {
        "id": "SQ2RGDWRjhlE"
      },
      "source": [
        "for c in range(5, 0, -1): # começa no 5, tira 1 (-1), até o 1 (pois o útimo é ignorado)\n",
        "   print(c)"
      ],
      "execution_count": null,
      "outputs": []
    },
    {
      "cell_type": "markdown",
      "metadata": {
        "id": "xxpKGg2Jji_B"
      },
      "source": [
        "Para pular de dois em dois:"
      ]
    },
    {
      "cell_type": "code",
      "metadata": {
        "id": "4eeSTayRjlUs"
      },
      "source": [
        "for c in range(0, 7, 2): # começa no 0, pula de 2 em 2, até o 6 (pois o útimo é ignorado)\n",
        "   print(c)"
      ],
      "execution_count": null,
      "outputs": []
    },
    {
      "cell_type": "markdown",
      "metadata": {
        "id": "h0WwKHjQjnRX"
      },
      "source": [
        "Vamos a mais um exemplo:"
      ]
    },
    {
      "cell_type": "code",
      "metadata": {
        "id": "jnoyrZ31jmsH"
      },
      "source": [
        "n = int(input('Digite um número: '))\n",
        "\n",
        "for c in range(0, n+1): # Li o n e utilizei dentro do range para contagem.\n",
        "   print(c)\n",
        "print('Fim')"
      ],
      "execution_count": null,
      "outputs": []
    },
    {
      "cell_type": "markdown",
      "metadata": {
        "id": "gbeyuLZPjtmZ"
      },
      "source": [
        "Agora vamos receber o incio do range, o fim e o passo:"
      ]
    },
    {
      "cell_type": "code",
      "metadata": {
        "id": "01g6XP9vjxyv"
      },
      "source": [
        "i = int(input('Digite o inicio: '))\n",
        "f = int(input('Digite o fim: '))\n",
        "p = int(input('Digite o passo: '))\n",
        "\n",
        "\n",
        "for c in range(i, f+1, p): \n",
        "   print(c)\n",
        "print('Fim')"
      ],
      "execution_count": null,
      "outputs": []
    },
    {
      "cell_type": "markdown",
      "metadata": {
        "id": "XU5Gyzxbj0BN"
      },
      "source": [
        "Vamos pedir varios valores no for, através do input e somar todos eles:"
      ]
    },
    {
      "cell_type": "code",
      "metadata": {
        "id": "JM7xPjg1j0vb"
      },
      "source": [
        "s = 0\n",
        "for c in range(0, 4):\n",
        "   n = int(input('Digite um número: '))\n",
        "   s += n\n",
        "print(f'A soma de todos os numeros é {s}')"
      ],
      "execution_count": null,
      "outputs": []
    },
    {
      "cell_type": "markdown",
      "metadata": {
        "id": "n15n2pU_j2-w"
      },
      "source": [
        "O in pode ser usado para Strings"
      ]
    },
    {
      "cell_type": "code",
      "metadata": {
        "id": "eeDwmKkdj9Rd"
      },
      "source": [
        "for letra in 'Thiago Veiga Lima':\n",
        "   if letra == 'e':\n",
        "      print(f'Achei a letra {letra}')\n",
        "print('Fim')"
      ],
      "execution_count": null,
      "outputs": []
    },
    {
      "cell_type": "markdown",
      "metadata": {
        "id": "5OBkpYL2j93v"
      },
      "source": [
        "## EXERCÍCIOS"
      ]
    },
    {
      "cell_type": "markdown",
      "metadata": {
        "id": "5YRVAt-RkbLo"
      },
      "source": [
        "01 - Faça um programa que mostre na tela uma contagem regressiva para o estouro de fogos de artifício, indo de 10 até 0, com uma pausa de 1 segundo entre eles."
      ]
    },
    {
      "cell_type": "code",
      "metadata": {
        "id": "5fGkh8FPkHJF",
        "colab": {
          "base_uri": "https://localhost:8080/"
        },
        "outputId": "ab07a45c-c7c9-459a-e8f5-93e3c9e33b90"
      },
      "source": [
        "from time import sleep\n",
        "for c in range(10,-1,-1):\n",
        "  if c == 0:\n",
        "    print(\"Feliz ano novo!!!\")\n",
        "  else:\n",
        "    print(c)\n",
        "    sleep(1)\n",
        "  "
      ],
      "execution_count": 7,
      "outputs": [
        {
          "output_type": "stream",
          "text": [
            "10\n",
            "9\n",
            "8\n",
            "7\n",
            "6\n",
            "5\n",
            "4\n",
            "3\n",
            "2\n",
            "1\n",
            "Feliz ano novo!!!\n"
          ],
          "name": "stdout"
        }
      ]
    },
    {
      "cell_type": "markdown",
      "metadata": {
        "id": "RPyky00yke8P"
      },
      "source": [
        "\n",
        "\n",
        "```\n",
        "# Isto está formatado como código\n",
        "```\n",
        "\n",
        "02 - Dado uma string com uma frase informada pelo usuário (incluindo espaços em branco), conte quantas vezes aparece as vogais a,e,i,o,u"
      ]
    },
    {
      "cell_type": "code",
      "metadata": {
        "id": "t8Vw_nW3ki2s",
        "colab": {
          "base_uri": "https://localhost:8080/"
        },
        "outputId": "91e4e102-29b7-490d-cf3e-4bafa90b2554"
      },
      "source": [
        "frase = input(\"digite uma frase\")\n",
        "a = 0\n",
        "e = 0\n",
        "i = 0\n",
        "o = 0\n",
        "u = 0\n",
        "\n",
        "for l in frase:\n",
        "  if l=='a':\n",
        "    a+=1\n",
        "  if l=='e':\n",
        "    e+=1\n",
        "  if l=='i':\n",
        "    i+=1\n",
        "  if l=='o':\n",
        "    o+=1\n",
        "  if l=='u':\n",
        "    u+=1\n",
        "print(f\"\"\"A frase possui \n",
        "    a = {a}\n",
        "    e = {e}  \n",
        "    i = {i}\n",
        "    o = {o} \n",
        "    u = {u}\n",
        "      \"\"\")"
      ],
      "execution_count": 9,
      "outputs": [
        {
          "output_type": "stream",
          "text": [
            "digite uma fraseo abacate tem problemas de cabeça\n",
            "A frase possui \n",
            "    a = 6\n",
            "    e = 5  \n",
            "    i = 0\n",
            "    o = 2 \n",
            "    u = 0\n",
            "      \n"
          ],
          "name": "stdout"
        }
      ]
    },
    {
      "cell_type": "markdown",
      "metadata": {
        "id": "3PKv_p1EkjJ-"
      },
      "source": [
        "**03** - Desenvolva um código que pergunte um número n para o usuário e exiba todos seus divisores"
      ]
    },
    {
      "cell_type": "code",
      "metadata": {
        "id": "U9_SKeqfknWF",
        "colab": {
          "base_uri": "https://localhost:8080/"
        },
        "outputId": "32c13a37-ef2e-4f93-e5d4-27bf49590d85"
      },
      "source": [
        "n = int(input(\"digite um numero: \\n\"))\n",
        "for c in range(n,0,-1):\n",
        "  if n%c == 0:\n",
        "    print(f\"Para o numero: {n} o numero {c} é um divisor\")"
      ],
      "execution_count": 11,
      "outputs": [
        {
          "output_type": "stream",
          "text": [
            "digite um numero: \n",
            "35\n",
            "Para o numero: 35 o numero 35 é um divisor\n",
            "Para o numero: 35 o numero 7 é um divisor\n",
            "Para o numero: 35 o numero 5 é um divisor\n",
            "Para o numero: 35 o numero 1 é um divisor\n"
          ],
          "name": "stdout"
        }
      ]
    },
    {
      "cell_type": "markdown",
      "metadata": {
        "id": "GgInr5G5koDC"
      },
      "source": [
        "04 - Escreva um programa onde o usuário digita uma frase e essa frase retorna sem nenhuma vogal."
      ]
    },
    {
      "cell_type": "code",
      "metadata": {
        "id": "6es38m-VkqeW",
        "colab": {
          "base_uri": "https://localhost:8080/"
        },
        "outputId": "b83fb5f5-ad99-4fb2-e128-0b91a41134e6"
      },
      "source": [
        "frase = input(\"digite uma fase\")\n",
        "novafrase = \"\"\n",
        "for l in frase:\n",
        "  if l.lower() != 'a' and l.lower() != 'e' and l.lower() != 'i' and l.lower() != 'o' and l.lower() !='u':\n",
        "    novafrase += l\n",
        "print(novafrase)\n"
      ],
      "execution_count": 27,
      "outputs": [
        {
          "output_type": "stream",
          "text": [
            "digite uma faseseu chico caça tatu\n",
            "s chc cç tt\n"
          ],
          "name": "stdout"
        }
      ]
    }
  ]
}